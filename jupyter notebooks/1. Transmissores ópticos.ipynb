{
 "cells": [
  {
   "cell_type": "code",
   "execution_count": null,
   "metadata": {
    "ExecuteTime": {
     "end_time": "2023-04-11T17:13:45.366790Z",
     "start_time": "2023-04-11T17:13:27.976606Z"
    }
   },
   "outputs": [],
   "source": [
    "import sympy as sp\n",
    "import numpy as np\n",
    "import matplotlib.pyplot as plt\n",
    "from sympy import cos, sin, exp, Matrix, sqrt\n",
    "from sympy.simplify.fu import TR10, TR9\n",
    "import pandas as pd\n",
    "\n",
    "from IPython.display import display, Math\n",
    "from IPython.display import display as disp\n",
    "from utils import symdisp, symplot\n",
    "import ipywidgets as widgets\n",
    "from ipywidgets import interact\n",
    "\n",
    "from commpy.utilities import upsample\n",
    "\n",
    "from optic.modulation import modulateGray, demodulateGray, GrayMapping\n",
    "from optic.dsp import firFilter, pulseShape, lowPassFIR, pnorm, sincInterp\n",
    "from optic.metrics import signal_power\n",
    "from optic.plot import eyediagram"
   ]
  },
  {
   "cell_type": "code",
   "execution_count": null,
   "metadata": {
    "ExecuteTime": {
     "end_time": "2023-04-11T17:13:45.382568Z",
     "start_time": "2023-04-11T17:13:45.367579Z"
    }
   },
   "outputs": [],
   "source": [
    "from IPython.core.display import HTML\n",
    "from IPython.core.pylabtools import figsize\n",
    "\n",
    "HTML(\"\"\"\n",
    "<style>\n",
    ".output_png {\n",
    "    display: table-cell;\n",
    "    text-align: center;\n",
    "    vertical-align: middle;\n",
    "}\n",
    "</style>\n",
    "\"\"\")"
   ]
  },
  {
   "cell_type": "code",
   "execution_count": null,
   "metadata": {
    "ExecuteTime": {
     "end_time": "2023-04-11T17:13:45.460525Z",
     "start_time": "2023-04-11T17:13:45.383535Z"
    }
   },
   "outputs": [],
   "source": [
    "figsize(10, 3)"
   ]
  },
  {
   "cell_type": "markdown",
   "metadata": {},
   "source": [
    "# Comunicações Ópticas"
   ]
  },
  {
   "cell_type": "markdown",
   "metadata": {
    "toc": true
   },
   "source": [
    "<h1>Table of Contents<span class=\"tocSkip\"></span></h1>\n",
    "<div class=\"toc\"><ul class=\"toc-item\"><li><span><a href=\"#Representações-para-a-portadora-óptica\" data-toc-modified-id=\"Representações-para-a-portadora-óptica-1\"><span class=\"toc-item-num\">1&nbsp;&nbsp;</span>Representações para a portadora óptica</a></span><ul class=\"toc-item\"><li><span><a href=\"#Modulações-digitais\" data-toc-modified-id=\"Modulações-digitais-1.1\"><span class=\"toc-item-num\">1.1&nbsp;&nbsp;</span>Modulações digitais</a></span></li><li><span><a href=\"#Diagramas-de-constelação\" data-toc-modified-id=\"Diagramas-de-constelação-1.2\"><span class=\"toc-item-num\">1.2&nbsp;&nbsp;</span>Diagramas de constelação</a></span></li></ul></li><li><span><a href=\"#Modulador-de-Mach-Zehnder\" data-toc-modified-id=\"Modulador-de-Mach-Zehnder-2\"><span class=\"toc-item-num\">2&nbsp;&nbsp;</span>Modulador de Mach-Zehnder</a></span><ul class=\"toc-item\"><li><span><a href=\"#Transmitindo-informação-na-intensidade-(potência)-da-portadora-óptica-($V_b-=-\\pm-V_π/2$)\" data-toc-modified-id=\"Transmitindo-informação-na-intensidade-(potência)-da-portadora-óptica-($V_b-=-\\pm-V_π/2$)-2.1\"><span class=\"toc-item-num\">2.1&nbsp;&nbsp;</span>Transmitindo informação na intensidade (potência) da portadora óptica ($V_b = \\pm V_π/2$)</a></span></li><li><span><a href=\"#Transmitindo-informação-na-amplitude-do-campo-elétrico-($V_b-=-\\pm-V_π$)\" data-toc-modified-id=\"Transmitindo-informação-na-amplitude-do-campo-elétrico-($V_b-=-\\pm-V_π$)-2.2\"><span class=\"toc-item-num\">2.2&nbsp;&nbsp;</span>Transmitindo informação na amplitude do campo elétrico ($V_b = \\pm V_π$)</a></span></li><li><span><a href=\"#Razão-de-extinção\" data-toc-modified-id=\"Razão-de-extinção-2.3\"><span class=\"toc-item-num\">2.3&nbsp;&nbsp;</span>Razão de extinção</a></span></li></ul></li><li><span><a href=\"#Intervalos-de-sinalização\" data-toc-modified-id=\"Intervalos-de-sinalização-3\"><span class=\"toc-item-num\">3&nbsp;&nbsp;</span>Intervalos de sinalização</a></span><ul class=\"toc-item\"><li><span><a href=\"#Teorema-da-amostragem\" data-toc-modified-id=\"Teorema-da-amostragem-3.1\"><span class=\"toc-item-num\">3.1&nbsp;&nbsp;</span>Teorema da amostragem</a></span></li><li><span><a href=\"#Exemplo-1:-função-sinc(t)\" data-toc-modified-id=\"Exemplo-1:-função-sinc(t)-3.2\"><span class=\"toc-item-num\">3.2&nbsp;&nbsp;</span>Exemplo 1: função sinc(t)</a></span></li><li><span><a href=\"#Exemplo-2:-chirp-de-frequência-linear\" data-toc-modified-id=\"Exemplo-2:-chirp-de-frequência-linear-3.3\"><span class=\"toc-item-num\">3.3&nbsp;&nbsp;</span>Exemplo 2: chirp de frequência linear</a></span></li></ul></li><li><span><a href=\"#Modulação-de-amplitude-OOK\" data-toc-modified-id=\"Modulação-de-amplitude-OOK-4\"><span class=\"toc-item-num\">4&nbsp;&nbsp;</span>Modulação de amplitude OOK</a></span><ul class=\"toc-item\"><li><span><a href=\"#Gerando-sinais-binários-OOK\" data-toc-modified-id=\"Gerando-sinais-binários-OOK-4.1\"><span class=\"toc-item-num\">4.1&nbsp;&nbsp;</span>Gerando sinais binários OOK</a></span><ul class=\"toc-item\"><li><span><a href=\"#Pulso-retangular-ideal\" data-toc-modified-id=\"Pulso-retangular-ideal-4.1.1\"><span class=\"toc-item-num\">4.1.1&nbsp;&nbsp;</span>Pulso retangular ideal</a></span></li><li><span><a href=\"#Pulso-NRZ-típico\" data-toc-modified-id=\"Pulso-NRZ-típico-4.1.2\"><span class=\"toc-item-num\">4.1.2&nbsp;&nbsp;</span>Pulso NRZ típico</a></span></li><li><span><a href=\"#Pulso-cosseno-levantado\" data-toc-modified-id=\"Pulso-cosseno-levantado-4.1.3\"><span class=\"toc-item-num\">4.1.3&nbsp;&nbsp;</span>Pulso cosseno levantado</a></span></li></ul></li></ul></li><li><span><a href=\"#Densidade-espectral-de-potência-de-sinais-modulados-digitalmenente\" data-toc-modified-id=\"Densidade-espectral-de-potência-de-sinais-modulados-digitalmenente-5\"><span class=\"toc-item-num\">5&nbsp;&nbsp;</span>Densidade espectral de potência de sinais modulados digitalmenente</a></span><ul class=\"toc-item\"><li><span><a href=\"#Valor-médio-e-autocorrelação-de-$V(t)$\" data-toc-modified-id=\"Valor-médio-e-autocorrelação-de-$V(t)$-5.1\"><span class=\"toc-item-num\">5.1&nbsp;&nbsp;</span>Valor médio e autocorrelação de $V(t)$</a></span><ul class=\"toc-item\"><li><span><a href=\"#Valor-médio\" data-toc-modified-id=\"Valor-médio-5.1.1\"><span class=\"toc-item-num\">5.1.1&nbsp;&nbsp;</span>Valor médio</a></span></li><li><span><a href=\"#Autocorrelação\" data-toc-modified-id=\"Autocorrelação-5.1.2\"><span class=\"toc-item-num\">5.1.2&nbsp;&nbsp;</span>Autocorrelação</a></span></li></ul></li><li><span><a href=\"#Densidade-espectral-de-potência-$\\mathcal{S}_{V}(f)$\" data-toc-modified-id=\"Densidade-espectral-de-potência-$\\mathcal{S}_{V}(f)$-5.2\"><span class=\"toc-item-num\">5.2&nbsp;&nbsp;</span>Densidade espectral de potência $\\mathcal{S}_{V}(f)$</a></span></li><li><span><a href=\"#Exemplos-de-densidade-espectral-de-potência-de-sinais-modulados\" data-toc-modified-id=\"Exemplos-de-densidade-espectral-de-potência-de-sinais-modulados-5.3\"><span class=\"toc-item-num\">5.3&nbsp;&nbsp;</span>Exemplos de densidade espectral de potência de sinais modulados</a></span></li></ul></li><li><span><a href=\"#Gerando-sinais-M-PAM\" data-toc-modified-id=\"Gerando-sinais-M-PAM-6\"><span class=\"toc-item-num\">6&nbsp;&nbsp;</span>Gerando sinais M-PAM</a></span></li><li><span><a href=\"#Gerando-sinais-modulados-em-fase-e-quadratura-(PSK,-QAM)\" data-toc-modified-id=\"Gerando-sinais-modulados-em-fase-e-quadratura-(PSK,-QAM)-7\"><span class=\"toc-item-num\">7&nbsp;&nbsp;</span>Gerando sinais modulados em fase e quadratura (PSK, QAM)</a></span></li><li><span><a href=\"#Formatação--de-pulso-óptica:-pulsos-retorno-ao-zero-(RZ)\" data-toc-modified-id=\"Formatação--de-pulso-óptica:-pulsos-retorno-ao-zero-(RZ)-8\"><span class=\"toc-item-num\">8&nbsp;&nbsp;</span>Formatação  de pulso óptica: pulsos retorno-ao-zero (RZ)</a></span></li><li><span><a href=\"#Pente-de-frequências-(frequency-comb)\" data-toc-modified-id=\"Pente-de-frequências-(frequency-comb)-9\"><span class=\"toc-item-num\">9&nbsp;&nbsp;</span>Pente de frequências (frequency comb)</a></span></li><li><span><a href=\"#Referências\" data-toc-modified-id=\"Referências-10\"><span class=\"toc-item-num\">10&nbsp;&nbsp;</span>Referências</a></span></li></ul></div>"
   ]
  },
  {
   "cell_type": "markdown",
   "metadata": {},
   "source": [
    "# Geração de sinais ópticos\n",
    "\n",
    "Num sistema de comunicação digital óptica, a função do transmissor é converter uma dada sequência de bits num trem de pulsos elétricos que, por sua vez, será utilizado na modulação de uma portadora óptica (laser). A modulação de portadoras ópticas é realizada por meio de dispositivos de conversão eletro-óptica.\n",
    "\n",
    "<img src=\"./figuras/Tx_OOK.png\" width=\"500\">\n",
    "\n",
    "Diversas técnicas de modulação podem ser implementadas e diversos fatores podem influenciar o projeto de um transmissor óptico. "
   ]
  },
  {
   "cell_type": "markdown",
   "metadata": {},
   "source": [
    "## Representações para a portadora óptica"
   ]
  },
  {
   "cell_type": "markdown",
   "metadata": {},
   "source": [
    "O campo elétrico $\\mathbf{E}(t)$ da portadora óptica portadora óptica de onda contínua pode ser representado por\n",
    "\n",
    "$$\\begin{equation} \\mathbf{E}(t) = A \\cos \\left(\\omega_c t + \\theta\\right) \\mathbf{e} \\end{equation}$$ \n",
    "\n",
    "em que $\\omega_c = 2\\pi f_{c}\\label{eq1} $ rad/s é a frequência angular de oscilação, $A$ a amplitude e $\\theta$ a fase da onda."
   ]
  },
  {
   "cell_type": "code",
   "execution_count": null,
   "metadata": {
    "ExecuteTime": {
     "end_time": "2023-04-11T17:13:46.069788Z",
     "start_time": "2023-04-11T17:13:45.461521Z"
    }
   },
   "outputs": [],
   "source": [
    "θ, omega_c, A, t = sp.symbols('θ, omega_c, A, t', real=True)\n",
    "\n",
    "j = sp.I\n",
    "π = sp.pi\n",
    "\n",
    "E = A*cos(omega_c*t + θ)\n",
    "\n",
    "symdisp('E(t) = ', E)"
   ]
  },
  {
   "cell_type": "markdown",
   "metadata": {},
   "source": [
    "$E(t)=\\operatorname{Re}\\left[A e^{j \\theta} \\exp \\left(j \\omega_c t\\right)\\right]$"
   ]
  },
  {
   "cell_type": "code",
   "execution_count": null,
   "metadata": {
    "ExecuteTime": {
     "end_time": "2023-04-11T17:13:46.164128Z",
     "start_time": "2023-04-11T17:13:46.070758Z"
    }
   },
   "outputs": [],
   "source": [
    "E = sp.re(A*exp(j*θ)*exp(j*omega_c*t)).simplify()\n",
    "\n",
    "symdisp('E(t) = ', E)"
   ]
  },
  {
   "cell_type": "code",
   "execution_count": null,
   "metadata": {
    "ExecuteTime": {
     "end_time": "2023-04-11T17:13:46.290233Z",
     "start_time": "2023-04-11T17:13:46.165102Z"
    }
   },
   "outputs": [],
   "source": [
    "E = sp.expand_trig(E).cancel()\n",
    "\n",
    "symdisp('E(t) = ', E)"
   ]
  },
  {
   "cell_type": "code",
   "execution_count": null,
   "metadata": {
    "ExecuteTime": {
     "end_time": "2023-04-11T17:13:46.477018Z",
     "start_time": "2023-04-11T17:13:46.291201Z"
    }
   },
   "outputs": [],
   "source": [
    "print('Portadora:')\n",
    "symdisp('E(t) = ', E)\n",
    "\n",
    "print('Representação fasorial polar:')\n",
    "symdisp('\\hat{E}(t) = ', A*exp(j*θ))\n",
    "\n",
    "print('Representação fasorial cartesiana:')\n",
    "A_I = sp.re(A*exp(j*θ))\n",
    "A_Q = sp.im(A*exp(j*θ))\n",
    "\n",
    "symdisp('\\hat{E}(t) = ', A_I + j*A_Q)\n",
    "\n",
    "symdisp('A_I = ', A_I)\n",
    "symdisp('A_Q = ', A_Q)"
   ]
  },
  {
   "cell_type": "markdown",
   "metadata": {},
   "source": [
    "### Modulações digitais\n",
    "\n",
    "Uma modulação digital é uma função $F$ que mapeia bits ou conjuntos de bits a símbolos (fasores) no plano complexo\n",
    "\n",
    "$$ F: \\{0, 1\\}^k\\rightarrow \\{A_m,\\theta_m\\}_{m=1}^M$$\n",
    "\n",
    "em que sequências de $k$ bits são mapeadas num conjunto de $M$ símbolos ($M=2^k$).\n",
    "\n",
    "Ex.1: $\\{0, 1\\}\\rightarrow \\{(0, 0), (A, 0)\\}$ (modulação OOK) \n",
    "\n",
    "\n",
    "Ex.2: $\\{0, 1\\}\\rightarrow \\{(A, 0), (A, \\pi )\\}$ (modulação BPSK)\n",
    "\n",
    "\n",
    "Ex.3: $\\{(0, 0),(0, 1),(1, 0),(1, 1)\\}\\rightarrow \\{(0, 0), (A/3, 0), (2A/3, 0), (A, 0)\\}$ (modulação 4-PAM ou 4-ASK)\n",
    "\n",
    "\n",
    "Ex.4: $\\{(0, 0),(0, 1),(1, 0),(1, 1)\\}\\rightarrow \\{(A, \\pi/4), (A, 3\\pi/4), (A, 5\\pi/4), (A, 7\\pi/4)\\}$ (modulação QPSK)"
   ]
  },
  {
   "cell_type": "markdown",
   "metadata": {},
   "source": [
    "### Diagramas de constelação"
   ]
  },
  {
   "cell_type": "code",
   "execution_count": null,
   "metadata": {
    "ExecuteTime": {
     "end_time": "2023-04-11T17:13:50.744751Z",
     "start_time": "2023-04-11T17:13:46.477987Z"
    },
    "hide_input": true
   },
   "outputs": [],
   "source": [
    "# M: order of the modulation format\n",
    "# constType: 'qam', 'psk', 'pam' or 'ook'\n",
    "\n",
    "def genConst(M, constType, plotBits):\n",
    "    try:\n",
    "        plt.figure(figsize=(4,4))\n",
    "        plt.plot([],[])\n",
    "        plt.grid()\n",
    "        plt.ylabel('$A_Q$', fontsize=14)\n",
    "        plt.xlabel('$A_I$', fontsize=14)\n",
    "        plt.axis('square')\n",
    "\n",
    "        # plot modulation bit-to-symbol mapping    \n",
    "        constSymb = GrayMapping(M, constType)             # Gray constellation mapping\n",
    "        bitMap = demodulateGray(constSymb, M, constType)  # bit mapping\n",
    "        bitMap = bitMap.reshape(-1, int(np.log2(M)))\n",
    "\n",
    "        # generate random bits\n",
    "        bits = bitMap.reshape(1, -1)\n",
    "\n",
    "        # Map bits to constellation symbols\n",
    "        symbTx = modulateGray(bits, M, constType)\n",
    "\n",
    "        # normalize symbols energy to 1\n",
    "        if constType == 'ook':\n",
    "            plt.xlim(-1.25*max(symbTx.real),1.25*max(symbTx.real))\n",
    "            plt.ylim(-1.25*max(symbTx.real),1.25*max(symbTx.real));\n",
    "            plt.vlines(0, -1.25*max(symbTx.real),1.25*max(symbTx.real))\n",
    "            plt.hlines(0, -1.25*max(symbTx.real),1.25*max(symbTx.real))\n",
    "        else:\n",
    "            plt.xlim(1.25*min(symbTx.real),1.25*max(symbTx.real))\n",
    "            plt.ylim(1.25*min(symbTx.real),1.25*max(symbTx.real));\n",
    "            plt.vlines(0, 1.25*min(symbTx.real), 1.25*max(symbTx.real))\n",
    "            plt.hlines(0, 1.25*min(symbTx.real), 1.25*max(symbTx.real))\n",
    "        \n",
    "        if M>64:\n",
    "            plt.plot(symbTx.real, symbTx.imag,'o', markersize=4);\n",
    "        else:\n",
    "            plt.plot(symbTx.real, symbTx.imag,'o', markersize=10);                \n",
    "      \n",
    "        plt.title('Constelação '+str(M)+'-'+constType.upper());\n",
    "        \n",
    "        if plotBits:\n",
    "            if M>=64:\n",
    "                fontSize = 6\n",
    "            else:\n",
    "                fontSize = 12\n",
    "\n",
    "            for ind, symb in enumerate(constSymb):\n",
    "                bitMap[ind,:]\n",
    "                plt.annotate(str(bitMap[ind,:])[1:-1:2], xy = (symb.real-0.05, symb.imag+0.15), size=fontSize)\n",
    "        \n",
    "    except:\n",
    "        return    \n",
    "    \n",
    "interact(genConst, M=[2, 4, 8, 16, 64, 256, 1024], constType=['ook','pam','psk','qam'], plotBits=[True, False]);"
   ]
  },
  {
   "cell_type": "markdown",
   "metadata": {},
   "source": [
    "## Modulador de Mach-Zehnder\n",
    "\n",
    "\n",
    "<img src=\"./figuras/MZM.png\" width=\"600\">\n",
    "\n",
    "\n",
    "$$\\begin{equation}\n",
    "\\left[\\begin{array}{l}\n",
    "\\hat{E}_{1} \\\\\n",
    "\\hat{E}_{2}\n",
    "\\end{array}\\right]=\\frac{1}{\\sqrt{2}}\\left[\\begin{array}{ll}\n",
    "1 & j \\\\\n",
    "j & 1\n",
    "\\end{array}\\right]\\left[\\begin{array}{cc}\n",
    "e^{j \\phi_{1}} & 0 \\\\\n",
    "0 & e^{j \\phi_{2}}\n",
    "\\end{array}\\right]\\frac{1}{\\sqrt{2}}\\left[\\begin{array}{ll}\n",
    "1 & j \\\\\n",
    "j & 1\n",
    "\\end{array}\\right]\\left[\\begin{array}{c}\n",
    "\\hat{E}_{i} \\\\\n",
    "0\n",
    "\\end{array}\\right]\n",
    "\\end{equation}$$"
   ]
  },
  {
   "cell_type": "code",
   "execution_count": null,
   "metadata": {
    "ExecuteTime": {
     "end_time": "2023-04-11T17:13:50.760679Z",
     "start_time": "2023-04-11T17:13:50.745718Z"
    }
   },
   "outputs": [],
   "source": [
    "print('Portadora:')\n",
    "symdisp('E(t) = ', E)\n",
    "\n",
    "print('Simplificação: θ = 0')\n",
    "\n",
    "E_ = E.subs({θ:0})\n",
    "symdisp('E(t) = ', E)\n",
    "symdisp('\\hat{E}(t) = ', A)"
   ]
  },
  {
   "cell_type": "code",
   "execution_count": null,
   "metadata": {
    "ExecuteTime": {
     "end_time": "2023-04-11T17:13:50.933873Z",
     "start_time": "2023-04-11T17:13:50.762673Z"
    }
   },
   "outputs": [],
   "source": [
    "ϕ1, ϕ2, ϕ = sp.symbols('ϕ1, ϕ2, ϕ', real=True)\n",
    "Ai        = sp.symbols('A_i', real=True)"
   ]
  },
  {
   "cell_type": "code",
   "execution_count": null,
   "metadata": {
    "ExecuteTime": {
     "end_time": "2023-04-11T17:13:51.232006Z",
     "start_time": "2023-04-11T17:13:50.934841Z"
    }
   },
   "outputs": [],
   "source": [
    "C  = 1/sqrt(2)*Matrix([[1, j],[j, 1]])\n",
    "\n",
    "symdisp('C = ', C)"
   ]
  },
  {
   "cell_type": "code",
   "execution_count": null,
   "metadata": {
    "ExecuteTime": {
     "end_time": "2023-04-11T17:13:51.446945Z",
     "start_time": "2023-04-11T17:13:51.233003Z"
    }
   },
   "outputs": [],
   "source": [
    "M = Matrix([[exp(j*ϕ1), 0],[0, exp(j*ϕ2)]])\n",
    "\n",
    "symdisp('M = ', M)"
   ]
  },
  {
   "cell_type": "code",
   "execution_count": null,
   "metadata": {
    "ExecuteTime": {
     "end_time": "2023-04-11T17:13:51.509862Z",
     "start_time": "2023-04-11T17:13:51.447913Z"
    }
   },
   "outputs": [],
   "source": [
    "T = C*M*C\n",
    "\n",
    "symdisp('T = ', T)"
   ]
  },
  {
   "cell_type": "code",
   "execution_count": null,
   "metadata": {
    "ExecuteTime": {
     "end_time": "2023-04-11T17:13:51.668326Z",
     "start_time": "2023-04-11T17:13:51.510830Z"
    }
   },
   "outputs": [],
   "source": [
    "Ei = Matrix([[Ai],[0]])\n",
    "\n",
    "symdisp('\\hat{E}_i = ', Ei)"
   ]
  },
  {
   "cell_type": "code",
   "execution_count": null,
   "metadata": {
    "ExecuteTime": {
     "end_time": "2023-04-11T17:13:51.775528Z",
     "start_time": "2023-04-11T17:13:51.669294Z"
    }
   },
   "outputs": [],
   "source": [
    "Eo = T*Ei\n",
    "symdisp('\\hat{E}_o = ', Eo)"
   ]
  },
  {
   "cell_type": "code",
   "execution_count": null,
   "metadata": {
    "ExecuteTime": {
     "end_time": "2023-04-11T17:13:51.961896Z",
     "start_time": "2023-04-11T17:13:51.776525Z"
    }
   },
   "outputs": [],
   "source": [
    "Eo[0].subs({ϕ1:ϕ, ϕ2:-ϕ}).simplify()"
   ]
  },
  {
   "cell_type": "markdown",
   "metadata": {},
   "source": [
    "$$\\begin{equation}\n",
    "\\frac{\\hat{E}_{\\text {out }}(t)}{\\hat{E}_{\\text {in }}(t)}=\\frac{1}{2} \\left(e^{j \\varphi(t)}+e^{-j \\varphi(t)}\\right)e^{j\\frac{\\pi}{2}}\n",
    "\\end{equation}$$"
   ]
  },
  {
   "cell_type": "markdown",
   "metadata": {},
   "source": [
    "$$\n",
    "\\varphi(t)=\\frac{1}{2V_{\\pi}}[u(t)+V_b]\\pi\n",
    "$$"
   ]
  },
  {
   "cell_type": "markdown",
   "metadata": {},
   "source": [
    "$$\\begin{equation}\n",
    "A_{\\text {out}}(t) = A_{i n}(t) \\cos \\left(\\frac{1}{2V_{\\pi}}[u(t)+V_b]\\pi\\right)\n",
    "\\end{equation}$$"
   ]
  },
  {
   "cell_type": "code",
   "execution_count": null,
   "metadata": {
    "ExecuteTime": {
     "end_time": "2023-04-11T17:14:00.997058Z",
     "start_time": "2023-04-11T17:13:51.962861Z"
    }
   },
   "outputs": [],
   "source": [
    "from optic.models import mzm\n",
    "\n",
    "help(mzm)"
   ]
  },
  {
   "cell_type": "markdown",
   "metadata": {},
   "source": [
    "### Transmitindo informação na intensidade (potência) da portadora óptica ($V_b = \\pm V_π/2$)"
   ]
  },
  {
   "cell_type": "code",
   "execution_count": null,
   "metadata": {
    "ExecuteTime": {
     "end_time": "2023-04-11T17:14:01.248933Z",
     "start_time": "2023-04-11T17:14:01.003997Z"
    }
   },
   "outputs": [],
   "source": [
    "Vπ = 2\n",
    "Vb = -Vπ/2\n",
    "\n",
    "u = np.arange(-2*Vπ, 2*Vπ, 0.25) # gera valores entre -2Vπ e 2Vπ\n",
    "\n",
    "Ai = 1\n",
    "Ao = mzm(Ai, u, Vπ, Vb)\n",
    "\n",
    "\n",
    "plt.figure(figsize=(6,4))\n",
    "plt.plot(u+Vb, Ao,'-o', markersize = 5, label = 'amplitude $A$ da portadora', linewidth = 2);\n",
    "plt.xlabel('Amplitude do sinal modulante na entrada do MZM (V)')\n",
    "plt.xlim(min(u+Vb), max(u+Vb));\n",
    "\n",
    "plt.plot(u+Vb, np.abs(Ao)**2, '-s', markersize = 5, label = 'potência $|A|^2$ da portadora', linewidth = 2);\n",
    "plt.xlabel('Amplitude do sinal modulante na entrada do MZM (V)')\n",
    "plt.xlim(min(u+Vb), max(u+Vb));\n",
    "\n",
    "# plota ponto de operação\n",
    "Aop = mzm(Ai, 0, Vπ, Vb)\n",
    "plt.plot(Vb, np.abs(Aop)**2,'ko', markersize = 6, label = 'ponto de operação', linewidth = 2);\n",
    "plt.legend()\n",
    "plt.grid()"
   ]
  },
  {
   "cell_type": "markdown",
   "metadata": {},
   "source": [
    "### Transmitindo informação na amplitude do campo elétrico ($V_b = \\pm V_π$)"
   ]
  },
  {
   "cell_type": "code",
   "execution_count": null,
   "metadata": {
    "ExecuteTime": {
     "end_time": "2023-04-11T17:14:01.375603Z",
     "start_time": "2023-04-11T17:14:01.249930Z"
    }
   },
   "outputs": [],
   "source": [
    "Vπ = 2\n",
    "Vb = -Vπ\n",
    "\n",
    "u  = np.arange(-2*Vπ, 2*Vπ, 0.25) # gera valores entre -2Vπ e 2Vπ\n",
    "\n",
    "Ai = 1\n",
    "Ao = mzm(Ai, u, Vπ, Vb)\n",
    "\n",
    "plt.figure(figsize=(6,4))\n",
    "plt.plot(u+Vb, Ao,'-o', markersize = 5, label = 'amplitude $A$ da portadora', linewidth = 2);\n",
    "plt.xlabel('Amplitude do sinal modulante na entrada do MZM (V)')\n",
    "plt.xlim(min(u+Vb), max(u+Vb));\n",
    "\n",
    "plt.plot(u+Vb, np.abs(Ao)**2, '-s', markersize = 5, label = 'potência $|A|^2$ da portadora', linewidth = 2);\n",
    "plt.xlabel('Amplitude do sinal modulante na entrada do MZM (V)')\n",
    "plt.xlim(min(u+Vb), max(u+Vb));\n",
    "\n",
    "# plota ponto de operação\n",
    "Aop = mzm(Ai, 0, Vπ, Vb)\n",
    "plt.plot(Vb, Aop,'ko', markersize = 6, label = 'ponto de operação', linewidth = 2);\n",
    "plt.legend()\n",
    "plt.grid()"
   ]
  },
  {
   "cell_type": "markdown",
   "metadata": {},
   "source": [
    "### Razão de extinção\n",
    "\n",
    "$$ER_{dB} = 10\\log_{10}\\frac{P_1}{P_0} $$"
   ]
  },
  {
   "cell_type": "code",
   "execution_count": null,
   "metadata": {
    "ExecuteTime": {
     "end_time": "2023-04-11T17:14:01.991935Z",
     "start_time": "2023-04-11T17:14:01.376601Z"
    }
   },
   "outputs": [],
   "source": [
    "# parâmetros do MZM\n",
    "Vπ = 2\n",
    "Vb = 0\n",
    "u  = np.arange(-2*Vπ, 2*Vπ, 0.00013) # gera valores entre -2Vπ e 2Vπ\n",
    "\n",
    "Ai = 1\n",
    "Ao = mzm(Ai, 0.9*u, Vπ, Vb) # gera a curva de resposta o MZM\n",
    "\n",
    "plt.figure(figsize=(6,4))\n",
    "plt.plot(u, Ao,'-', markersize = 5, label = 'amplitude $A$ da portadora', linewidth = 2);\n",
    "plt.xlabel('Amplitude do sinal modulante na entrada do MZM (V)')\n",
    "plt.xlim(min(u), max(u));\n",
    "\n",
    "plt.plot(u, np.abs(Ao)**2, '-', markersize = 5, label = 'potência $|A|^2$ da portadora', linewidth = 2);\n",
    "plt.xlabel('Amplitude do sinal modulante na entrada do MZM (V)')\n",
    "plt.xlim(min(u), max(u));\n",
    "plt.legend()\n",
    "plt.grid()\n",
    "\n",
    "P  = 10*np.log((np.abs(Ao)**2 + 0.05))\n",
    "\n",
    "plt.figure()\n",
    "plt.plot(u, P, label = 'potência $|A|^2$', linewidth = 2);\n",
    "plt.xlabel('Amplitude do sinal modulante na entrada do MZM (V)')\n",
    "plt.ylabel('dBx')\n",
    "plt.xlim(min(u), max(u));\n",
    "plt.legend()\n",
    "plt.grid()\n",
    "\n",
    "print('Razão de extinção (extinction ratio - ER)')\n",
    "\n",
    "print('ER = %.2f dB'%(max(P)-min(P)))"
   ]
  },
  {
   "cell_type": "markdown",
   "metadata": {},
   "source": [
    "## Intervalos de sinalização\n",
    "\n",
    "Transmissores digitais fazem uso do canal de comunicação para transmitir informação de acordo com uma base de tempo, geralmente denomidade de **intervalo de sinalização** ($T_s$). O intervalo de sinalização é o intervalo de tempo no qual o transmissor envia um símbolo discreto mapeado num pulso contínuo. O inverso do intervalo de sinalização é denominado de taxa de transmissão de símbolos ($R_s$), i.e. $R_s=1/T_s$.\n",
    "\n",
    "A quantidade de bits enviada em cada intervalo de sinalização multiplicada por $R_s$ corresponde à taxa de transmissão de bits do sistema ($R_b$). Assumindo que cada símbolo de uma modulação digital representa uma sequência de $k$ bits, temos que:\n",
    "\n",
    "$$R_b = kR_s $$"
   ]
  },
  {
   "cell_type": "code",
   "execution_count": null,
   "metadata": {
    "ExecuteTime": {
     "end_time": "2023-04-11T17:14:02.086648Z",
     "start_time": "2023-04-11T17:14:01.992904Z"
    }
   },
   "outputs": [],
   "source": [
    "Rs  = 10e9  # Taxa de símbolos [baud]\n",
    "Ts  = 1/Rs  # Período de símbolo em segundos\n",
    "N   = 10    # número de intervalos de sinalização\n",
    "\n",
    "t = np.arange(0, N+1)*(Ts/1e-12) # tempo em picosegundos (ps)\n",
    "\n",
    "plt.vlines(t, 0, 1, linestyles='dashed', color = 'k')    \n",
    "plt.xlabel('tempo [ps]');\n",
    "plt.title('intervalos de sinalização');\n",
    "plt.grid()\n",
    "plt.xticks(t);\n",
    "plt.xlim(0, t.max());"
   ]
  },
  {
   "cell_type": "markdown",
   "metadata": {},
   "source": [
    "### Teorema da amostragem\n",
    "\n",
    "O teorema de amostragem de *Nyquist-Shannon* é um dos resultados mais importantes utilizados em processamento digital de sinais, servindo como uma ponte fundamental entre sinais de tempo contínuo e sinais de tempo discreto. O teorema estabelece uma **condição suficiente** para uma taxa de amostragem que permite que uma sequência discreta de amostras capture toda a informação de um sinal contínuo no tempo e de largura de banda finita.\n",
    "\n",
    "Considerre $x(t)$ um sinal limitado em banda, i.e. o espectro de frequências de $X(f)=\\mathcal{F}\\{x(t)\\}$ está contido no intervalo $-B\\leq f \\leq B$, ou seja \n",
    "\n",
    "$$ X(f) = \\int_{-\\infty}^{\\infty} x(t)e^{j2\\pi f t} dt = 0 \\text{, se } f < -B \\text{ ou } f > B$$\n",
    "\n",
    "Suponha que obtenhamos um sinal discreto no tempo $x[k]$ a partir de um conjunto de amostras equiespaçadas de $x(t)$, ou seja $x[k]=x(kT_a)$, em que $T_a = \\frac{1}{f_a}$ é o período de amostragem e $f_a$ a frequência de amostragem.\n",
    "\n",
    "Se $f_a\\geq 2B$, $x(t)$ pode ser perfeitamente reconstruído a partir de suas amostras $x[k]$ fazendo\n",
    "\n",
    "$$\n",
    "x(t)=\\sum_{n=-\\infty}^{\\infty} x(k T_a) \\operatorname{sinc}\\left(\\frac{t-kT_a}{T_a}\\right).\n",
    "$$\n"
   ]
  },
  {
   "cell_type": "code",
   "execution_count": null,
   "metadata": {
    "ExecuteTime": {
     "end_time": "2023-04-11T17:14:02.134557Z",
     "start_time": "2023-04-11T17:14:02.087683Z"
    }
   },
   "outputs": [],
   "source": [
    "from optic.metrics import signal_power\n",
    "from optic.dsp import firFilter, pulseShape, sincInterp\n",
    "from optic.plot import eyediagram\n",
    "from commpy.utilities import upsample"
   ]
  },
  {
   "cell_type": "markdown",
   "metadata": {},
   "source": [
    "### Exemplo 1: função sinc(t)"
   ]
  },
  {
   "cell_type": "code",
   "execution_count": null,
   "metadata": {
    "ExecuteTime": {
     "end_time": "2023-04-11T17:14:02.479861Z",
     "start_time": "2023-04-11T17:14:02.135527Z"
    }
   },
   "outputs": [],
   "source": [
    "Fa = 400   # frequência de amostragem\n",
    "B  = 100   # banda da sinc\n",
    "Ta = 1/Fa  # período de amostragem\n",
    "\n",
    "t = np.arange(0, 0.2, Ta/16) # duração do sinal [s]\n",
    "d = t.size/2\n",
    "x = np.sinc(2*B*(t-d*(Ta/16)))\n",
    "\n",
    "# sinal amostrado com frequência de amostragem fa\n",
    "xa = x[::16]\n",
    "ta = t[::16]\n",
    "\n",
    "plt.figure()\n",
    "plt.plot(t, x,'-', label = 'x(t)')\n",
    "plt.plot(ta, xa,'ko', label = '$x[kT_a]$')\n",
    "plt.grid()\n",
    "plt.legend()\n",
    "plt.xlim(min(t), max(t))\n",
    "\n",
    "# plota psd\n",
    "x_psd = np.sinc(2*B*((np.arange(0, 2000)*Ta)-1000*Ta))\n",
    "plt.figure();\n",
    "plt.psd(x_psd, Fs=Fa, NFFT = 16*1024, sides='twosided')\n",
    "plt.xlim(-Fa/2, Fa/2);"
   ]
  },
  {
   "cell_type": "code",
   "execution_count": null,
   "metadata": {
    "ExecuteTime": {
     "end_time": "2023-04-11T17:14:02.822777Z",
     "start_time": "2023-04-11T17:14:02.480830Z"
    }
   },
   "outputs": [],
   "source": [
    "x_interp, t_interp = sincInterp(xa, Fa);\n",
    "\n",
    "plt.figure()\n",
    "plt.plot(t_interp, x_interp,'--k',label ='$\\hat{x}(t) =\\sum_{k}\\;x_{k}\\;sinc[(t-kT_a)/T_a]$');\n",
    "plt.plot(t, x,'-',label = 'função x(t) original')\n",
    "plt.xlim(min(t), max(t))\n",
    "plt.grid()\n",
    "plt.legend();"
   ]
  },
  {
   "cell_type": "markdown",
   "metadata": {},
   "source": [
    "### Exemplo 2: chirp de frequência linear"
   ]
  },
  {
   "cell_type": "code",
   "execution_count": null,
   "metadata": {
    "ExecuteTime": {
     "end_time": "2023-04-11T17:14:03.011871Z",
     "start_time": "2023-04-11T17:14:02.826759Z"
    }
   },
   "outputs": [],
   "source": [
    "from scipy.signal import chirp\n",
    "\n",
    "Fa = 200   # frequência de amostragem\n",
    "Ta = 1/Fa  # período de amostragem\n",
    "B  = 100\n",
    "\n",
    "d = 1600\n",
    "t = np.arange(0, 0.5, Ta/16) # duração do sinal [s]\n",
    "\n",
    "x = chirp(t, f0=-100, f1=100, t1=max(t), method='linear')\n",
    "\n",
    "# sinal amostrado com frequência de amostragem fa\n",
    "xa = x[::16]\n",
    "ta = t[::16]\n",
    "\n",
    "plt.figure()\n",
    "plt.plot(t, x,'-', label = 'y(t)')\n",
    "plt.plot(ta, xa,'ko', markersize = 4, label = '$x[kT_a]$')\n",
    "plt.xlabel('tempo (s)')\n",
    "plt.grid()\n",
    "plt.legend()\n",
    "plt.xlim(min(t), max(t))\n",
    "\n",
    "# plota psd\n",
    "plt.figure();\n",
    "plt.psd(xa, Fs=Fa, NFFT = 16*1024, sides='twosided')\n",
    "plt.xlim(-Fa/2, Fa/2);"
   ]
  },
  {
   "cell_type": "code",
   "execution_count": null,
   "metadata": {
    "ExecuteTime": {
     "end_time": "2023-04-11T17:14:03.353489Z",
     "start_time": "2023-04-11T17:14:03.012869Z"
    }
   },
   "outputs": [],
   "source": [
    "x_interp, t_interp = sincInterp(xa, Fa);\n",
    "\n",
    "plt.figure()\n",
    "plt.plot(t_interp, x_interp,'--k',label ='$\\hat{x}(t) =\\sum_{k}\\;x_{k}\\;sinc[(t-kT_a)/T_a]$');\n",
    "plt.plot(t, x,'-',label = 'função x(t) original')\n",
    "plt.xlabel('tempo (s)')\n",
    "plt.xlim(min(t), max(t))\n",
    "plt.grid()\n",
    "plt.legend(loc='upper right');"
   ]
  },
  {
   "cell_type": "markdown",
   "metadata": {},
   "source": [
    "## Modulação de amplitude OOK"
   ]
  },
  {
   "cell_type": "markdown",
   "metadata": {},
   "source": [
    "$ E(t)=\\operatorname{Re}\\left[A(t) e^{j \\theta} \\exp \\left(j \\omega_c t\\right)\\right]$"
   ]
  },
  {
   "cell_type": "markdown",
   "metadata": {},
   "source": [
    "$$ \\begin{align} A(t) &= \\left[ \\sum_{n} s_{n} \\delta \\left(t-n T_{s}\\right)\\right] \\ast p(t) \\nonumber \\\\ & = \\sum_{n} s_{n} p\\left(t-n T_{s}\\right)\\end{align}$$"
   ]
  },
  {
   "cell_type": "code",
   "execution_count": null,
   "metadata": {
    "ExecuteTime": {
     "end_time": "2023-04-11T17:14:03.369516Z",
     "start_time": "2023-04-11T17:14:03.354487Z"
    },
    "lines_to_next_cell": 2
   },
   "outputs": [],
   "source": [
    "# parâmetros da simulação\n",
    "Rs     = 10e9          # Taxa de símbolos (para o caso do OOK Rs = Rb)\n",
    "Ts     = 1/Rs          # Período de símbolo em segundos"
   ]
  },
  {
   "cell_type": "code",
   "execution_count": null,
   "metadata": {
    "ExecuteTime": {
     "end_time": "2023-04-11T17:14:03.696572Z",
     "start_time": "2023-04-11T17:14:03.372514Z"
    }
   },
   "outputs": [],
   "source": [
    "# gera sequência de bits pseudo-aleatórios\n",
    "bits   = np.random.randint(2, size=20)    \n",
    "n      = np.arange(0, bits.size)\n",
    "\n",
    "# mapeia bits para símbolos binários\n",
    "symbTx = 2*bits-1\n",
    "\n",
    "plt.figure(1)\n",
    "plt.stem(bits, basefmt=\" \")\n",
    "plt.xlabel('n')\n",
    "plt.ylabel('$b_n$')\n",
    "plt.grid()\n",
    "plt.xticks(np.arange(0, bits.size));\n",
    "\n",
    "plt.figure(2)\n",
    "plt.stem(symbTx, basefmt=\" \")\n",
    "plt.xlabel('n')\n",
    "plt.ylabel('$s_n$')\n",
    "plt.grid()\n",
    "plt.xticks(np.arange(0, symbTx.size));"
   ]
  },
  {
   "cell_type": "markdown",
   "metadata": {},
   "source": [
    "### Gerando sinais binários OOK\n",
    "\n",
    "#### Pulso retangular ideal"
   ]
  },
  {
   "cell_type": "code",
   "execution_count": null,
   "metadata": {
    "ExecuteTime": {
     "end_time": "2023-04-11T17:14:04.953437Z",
     "start_time": "2023-04-11T17:14:03.697541Z"
    },
    "hide_input": true
   },
   "outputs": [],
   "source": [
    "from sympy import fourier_transform as FT\n",
    "from sympy import inverse_fourier_transform as iFT\n",
    "from sympy import oo as infty\n",
    "\n",
    "def rect(t, a):\n",
    "    return (sp.Heaviside(t + a) - sp.Heaviside(t - a))\n",
    "\n",
    "t, f = sp.symbols('t, f', real=True)\n",
    "Ts = sp.symbols('T_s', real=True, positive=True)\n",
    "\n",
    "# pulso retangular\n",
    "p = rect(t, Ts/2)\n",
    "P = FT(p, t, f)\n",
    "\n",
    "symdisp('p(t) = ', p)\n",
    "symdisp('P(f) = ', P)\n",
    "\n",
    "intervalo_f = np.arange(-4, 4, 0.001)*(Rs/1e9)\n",
    "intervalo_t = np.arange(-1, 1, 0.001)*(1/(Rs/1e12))\n",
    "\n",
    "symplot(t, p.subs({Ts:1/(Rs/1e12)}), intervalo_t, funLabel='p(t)', xlabel=' tempo [ps]');\n",
    "plt.title('Domínio do tempo')\n",
    "symplot(f, P.subs({Ts:1/(Rs/1e9)}), intervalo_f, funLabel='$|P(f)|$', xlabel= 'frequência [GHz]');\n",
    "plt.title('Domínio da frequência')\n",
    "symplot(f, 10*sp.log(sp.Abs(P.subs({Ts:1/(Rs/1e9)})), 10), intervalo_f, funLabel='$|P(f)|$', \n",
    "        xlabel= 'frequência [GHz]', ylabel= 'valor absoluto [dB]');\n",
    "plt.title('Domínio da frequência em dB')\n",
    "plt.ylim(-50, 0);"
   ]
  },
  {
   "cell_type": "code",
   "execution_count": null,
   "metadata": {
    "ExecuteTime": {
     "end_time": "2023-04-11T17:14:05.060231Z",
     "start_time": "2023-04-11T17:14:04.954397Z"
    }
   },
   "outputs": [],
   "source": [
    "# parâmetros da simulação\n",
    "SpS = 128           # Amostras por símbolo\n",
    "Rs  = 10e9          # Taxa de símbolos (para o caso do OOK Rs = Rb)\n",
    "Ts  = 1/Rs          # Período de símbolo em segundos\n",
    "Fa  = 1/(Ts/SpS)    # Frequência de amostragem do sinal (amostras/segundo)\n",
    "Ta  = 1/Fa          # Período de amostragem\n",
    "\n",
    "# upsampling\n",
    "symbolsUp = upsample(symbTx, SpS)\n",
    "\n",
    "# pulso retangular ideal\n",
    "pulse = pulseShape('rect', SpS)\n",
    "pulse = pulse/max(abs(pulse))\n",
    "\n",
    "t = (0.5+np.arange(0, pulse.size))*(Ta/1e-12) # tempo em ps\n",
    "\n",
    "plt.figure(1)\n",
    "plt.plot(t, pulse,'-', label = 'p(t)', linewidth=3)\n",
    "plt.xlabel('tempo [ps]')\n",
    "plt.ylabel('amplitude')\n",
    "plt.xlim(min(t), max(t))\n",
    "plt.grid()\n",
    "plt.legend();"
   ]
  },
  {
   "cell_type": "code",
   "execution_count": null,
   "metadata": {
    "ExecuteTime": {
     "end_time": "2023-04-11T17:14:05.438185Z",
     "start_time": "2023-04-11T17:14:05.061228Z"
    }
   },
   "outputs": [],
   "source": [
    "# formatação de pulso retangular\n",
    "sigTx  = firFilter(pulse, symbolsUp)\n",
    "sigTx  = sigTx.real\n",
    "\n",
    "# plota sinal \n",
    "t = np.arange(0, sigTx.size)*(Ta/1e-12)\n",
    "\n",
    "# instantes centrais dos intervalos de sinalização\n",
    "symbolsUp = upsample(2*bits-1, SpS)\n",
    "symbolsUp[symbolsUp==0] = np.nan\n",
    "\n",
    "plt.figure(2)\n",
    "plt.plot(t, sigTx,'-', linewidth=3)\n",
    "plt.plot(t, symbolsUp.real, 'o')\n",
    "plt.xlabel('tempo [ps]')\n",
    "plt.ylabel('amplitude [V]')\n",
    "plt.title('$\\sum_{n}\\;s_{n}\\;p(t-n T_s)$')\n",
    "plt.grid()\n",
    "\n",
    "t = (0.5 + np.arange(0, bits.size))*(Ts/1e-12)\n",
    "plt.vlines(t, -1, 1, linestyles='dashed', color = 'k');\n",
    "plt.xlim(0, max(t));\n",
    "\n",
    "# modulação óptica\n",
    "P0 = 100e-3 # potência da portadora CW na entrada no MZM\n",
    "Vπ = 2 \n",
    "Vb = -Vπ/2\n",
    "Ai = np.sqrt(P0)\n",
    "sigTxo = mzm(Ai, (Vπ/2)*sigTx, Vπ, Vb)\n",
    "\n",
    "# plota sinal \n",
    "t = np.arange(0, sigTxo.size)*(Ta/1e-12)\n",
    "\n",
    "plt.figure(3)\n",
    "plt.plot(t, np.abs(sigTxo)**2,'-', linewidth=3)\n",
    "plt.xlabel('tempo [ps]')\n",
    "plt.ylabel('potência [W]')\n",
    "plt.title('$\\sqrt{P_0}\\;\\sum_{n}\\;\\;b_{n}p(t-n T_s)$')\n",
    "plt.grid()\n",
    "\n",
    "t = (0.5 + np.arange(0, bits.size))*(Ts/1e-12)\n",
    "plt.xlim(0, max(t));"
   ]
  },
  {
   "cell_type": "markdown",
   "metadata": {},
   "source": [
    "#### Pulso NRZ típico"
   ]
  },
  {
   "cell_type": "code",
   "execution_count": null,
   "metadata": {
    "ExecuteTime": {
     "end_time": "2023-04-11T17:14:05.533084Z",
     "start_time": "2023-04-11T17:14:05.438826Z"
    }
   },
   "outputs": [],
   "source": [
    "# parâmetros da simulação\n",
    "SpS = 32           # Amostras por símbolo\n",
    "Fa  = 1/(Ts/SpS)    # Frequência de amostragem do sinal (amostras/segundo)\n",
    "Ta  = 1/Fa          # Período de amostragem\n",
    "\n",
    "# pulso NRZ típico\n",
    "pulse = pulseShape('nrz', SpS)\n",
    "pulse = pulse/max(abs(pulse))\n",
    "\n",
    "t = np.arange(0, pulse.size)*(Ta/1e-12)\n",
    "\n",
    "plt.figure(1)\n",
    "plt.plot(t, pulse,'-', label = 'p(t)', linewidth=3)\n",
    "plt.xlabel('tempo [ps]')\n",
    "plt.ylabel('amplitude')\n",
    "plt.xlim(min(t), max(t))\n",
    "plt.grid()\n",
    "plt.legend();"
   ]
  },
  {
   "cell_type": "code",
   "execution_count": null,
   "metadata": {
    "ExecuteTime": {
     "end_time": "2023-04-11T17:14:05.862872Z",
     "start_time": "2023-04-11T17:14:05.534082Z"
    }
   },
   "outputs": [],
   "source": [
    "# upsampling\n",
    "symbolsUp = upsample(symbTx, SpS)\n",
    "\n",
    "# formatação de pulso retangular\n",
    "sigTx  = firFilter(pulse, symbolsUp)\n",
    "sigTx = sigTx.real\n",
    "\n",
    "t = np.arange(0, sigTx.size)*(Ta/1e-12)\n",
    "\n",
    "# instantes centrais dos intervalos de sinalização\n",
    "symbolsUp = upsample(2*bits-1, SpS)\n",
    "symbolsUp[symbolsUp==0] = np.nan\n",
    "\n",
    "plt.figure(2)\n",
    "plt.plot(t, sigTx,'-',linewidth=3)\n",
    "plt.plot(t, symbolsUp.real,'o')\n",
    "plt.xlabel('tempo [ps]')\n",
    "plt.ylabel('amplitude [V]')\n",
    "plt.title('$\\sum_{n}\\;s_{n}\\;p(t-n T_s)$')\n",
    "plt.grid()\n",
    "\n",
    "t = (0.5*Ts + np.arange(0, bits.size*Ts, Ts))/1e-12\n",
    "plt.vlines(t, -1, 1, linestyles='dashed', color = 'k');\n",
    "plt.xlim(0, max(t));\n",
    "\n",
    "# modulação óptica\n",
    "P0 = 100e-3 # potência da portadora CW na entrada no MZM\n",
    "Vπ = 2 \n",
    "Vb = -Vπ/2\n",
    "Ai = np.sqrt(P0)\n",
    "sigTxo = mzm(Ai, (Vπ/2)*sigTx, Vπ, Vb)\n",
    "\n",
    "# plota sinal \n",
    "t = np.arange(0, sigTxo.size)*(Ta/1e-12)\n",
    "\n",
    "plt.figure(3)\n",
    "plt.plot(t, np.abs(sigTxo)**2,'-', linewidth=3)\n",
    "plt.xlabel('tempo [ps]')\n",
    "plt.ylabel('potência [W]')\n",
    "plt.title('$\\sqrt{P_0}\\;\\sum_{n}\\;\\;b_{n}p(t-n T_s)$')\n",
    "plt.grid()\n",
    "\n",
    "t = (0.5 + np.arange(0, bits.size))*(Ts/1e-12)\n",
    "plt.xlim(0, max(t));"
   ]
  },
  {
   "cell_type": "markdown",
   "metadata": {},
   "source": [
    "#### Pulso cosseno levantado\n",
    "\n",
    "$$\\large\n",
    "p(t)=\\left\\{\\begin{array}{ll}\n",
    "\\frac{\\pi}{4 T} \\operatorname{sinc}\\left(\\frac{1}{2 \\beta}\\right), & t=\\pm \\frac{T}{2 \\beta} \\\\\n",
    "\\frac{1}{T} \\operatorname{sinc}\\left(\\frac{t}{T}\\right) \\frac{\\cos \\left(\\frac{\\pi \\beta t}{T}\\right)}{1-\\left(\\frac{2 \\beta t}{T}\\right)^{2}}, & \\text { caso contrário }\n",
    "\\end{array}\\right.\n",
    "$$\n",
    "\n",
    "$$\\large\n",
    "P(f)=\\left\\{\\begin{array}{ll}\n",
    "1, & |f| \\leq \\frac{1-\\beta}{2 T} \\\\\n",
    "\\frac{1}{2}\\left[1+\\cos \\left(\\frac{\\pi T}{\\beta}\\left[|f|-\\frac{1-\\beta}{2 T}\\right]\\right)\\right], & \\frac{1-\\beta}{2 T}<|f| \\leq \\frac{1+\\beta}{2 T} \\\\\n",
    "0, & \\text { caso contrário }\n",
    "\\end{array}\\right.\n",
    "$$"
   ]
  },
  {
   "cell_type": "code",
   "execution_count": null,
   "metadata": {
    "ExecuteTime": {
     "end_time": "2023-04-11T17:14:05.972177Z",
     "start_time": "2023-04-11T17:14:05.863870Z"
    }
   },
   "outputs": [],
   "source": [
    "# pulso cosseno levantado (raised cosine)\n",
    "Ncoeffs = 640\n",
    "rolloff = 0.01\n",
    "\n",
    "pulse = pulseShape('rc', SpS, Ncoeffs, rolloff, Ts)\n",
    "pulse = pulse/max(abs(pulse))\n",
    "\n",
    "t = np.arange(0, pulse.size)*(Ta/1e-12)\n",
    "\n",
    "plt.figure(1)\n",
    "plt.plot(t, pulse,'-', label = 'p(t)', linewidth=3)\n",
    "plt.xlabel('tempo [ps]')\n",
    "plt.ylabel('amplitude')\n",
    "plt.xlim(min(t), max(t))\n",
    "plt.grid()\n",
    "plt.legend()\n",
    "\n",
    "t = (-0.0*Ts + np.arange(0, (Ncoeffs/SpS)*Ts, Ts))/1e-12\n",
    "plt.vlines(t + 0.5*(Ts/1e-12), -0.2, 1, linestyles='dashed', color = 'k');"
   ]
  },
  {
   "cell_type": "code",
   "execution_count": null,
   "metadata": {
    "ExecuteTime": {
     "end_time": "2023-04-11T17:14:06.472484Z",
     "start_time": "2023-04-11T17:14:05.973174Z"
    }
   },
   "outputs": [],
   "source": [
    "# upsampling\n",
    "symbolsUp = upsample(symbTx, SpS)\n",
    "\n",
    "# formatação de pulso \n",
    "sigTx  = firFilter(pulse, symbolsUp)\n",
    "sigTx = sigTx.real\n",
    "\n",
    "t = np.arange(0, sigTx.size)*(Ta/1e-12)\n",
    "\n",
    "# instantes centrais dos intervalos de sinalização\n",
    "symbolsUp = upsample(2*bits-1, SpS)\n",
    "symbolsUp[symbolsUp==0] = np.nan\n",
    "\n",
    "plt.figure(2)\n",
    "plt.plot(t, sigTx,'-', linewidth=3)\n",
    "plt.plot(t, symbolsUp.real,'o')\n",
    "plt.xlabel('tempo [ps]')\n",
    "plt.ylabel('amplitude [V]')\n",
    "plt.title('$\\sum_{n}\\;s_{n}\\;p(t-n T_s)$')\n",
    "plt.grid()\n",
    "\n",
    "t = (0.5*Ts + np.arange(0, bits.size*Ts, Ts))/1e-12\n",
    "plt.vlines(t, -1, 1, linestyles='dashed', color = 'k');\n",
    "plt.xlim(0, max(t));\n",
    "\n",
    "# modulação óptica\n",
    "P0 = 100e-3 # potência da portadora CW na entrada no MZM\n",
    "Vπ = 2 \n",
    "Vb = -Vπ/2\n",
    "Ai = np.sqrt(P0)\n",
    "sigTxo = mzm(Ai, (Vπ/2)*sigTx, Vπ, Vb)\n",
    "\n",
    "# plota sinal \n",
    "t = np.arange(0, sigTxo.size)*(Ta/1e-12)\n",
    "\n",
    "plt.figure(3)\n",
    "plt.plot(t, np.abs(sigTxo)**2,'-', linewidth=3)\n",
    "plt.xlabel('tempo [ps]')\n",
    "plt.ylabel('potência [W]')\n",
    "plt.title('$\\sqrt{P_0}\\;\\sum_{n}\\;\\;b_{n}p(t-n T_s)$')\n",
    "plt.grid()\n",
    "\n",
    "t = (0.5 + np.arange(0, bits.size))*(Ts/1e-12)\n",
    "plt.xlim(0, max(t));\n",
    "plt.vlines(t, 0, P0, linestyles='dashed', color = 'k');\n",
    "plt.xlim(0, max(t));"
   ]
  },
  {
   "cell_type": "markdown",
   "metadata": {},
   "source": [
    "## Densidade espectral de potência de sinais modulados digitalmenente\n",
    "\n",
    "Considere $v(t)$ seja um sinal modulado em banda base no domínio do tempo associado a uma sequência de símbolos $\\{s_n\\}$ de um dado formato de modulação, ou seja\n",
    "\n",
    "$$ \\begin{equation}\n",
    "v(t)=\\sum_{n=-\\infty}^{\\infty} s_{n} p(t-n T).\n",
    "\\end{equation}\n",
    "$$\n",
    "\n",
    "em que $p(t)$ é o formato do pulso utilizado. O sinal $v(t)$ pode ser entendido como uma realização do processo estocástico $V(t)$ que, por sua vez, depende da sequência aleatória de símbolos $\\{s_n\\}$. Para cada realização distinta de $\\{s_n\\}$ temos uma forma de onda $v(t)$ associada.\n",
    "\n",
    "### Valor médio e autocorrelação de $V(t)$\n",
    "\n",
    "\n",
    "#### Valor médio\n",
    "\n",
    "$$\n",
    "\\begin{equation}\n",
    "\\begin{aligned}\n",
    "E[V(t)] &=\\sum_{n=-\\infty}^{\\infty} E\\left[s_{n}\\right] p(t-n T) \\\\\n",
    "&=m_{s} \\sum_{n=-\\infty}^{\\infty} p(t-n T)\n",
    "\\end{aligned}\n",
    "\\end{equation}\n",
    "$$\n",
    "\n",
    "Perceba que $E[V(t)]$ é periódico em $t$ com período $T$, que corresponde ao intervalo de sinalização.\n",
    "\n",
    "#### Autocorrelação\n",
    "\n",
    "$$\n",
    "\\begin{equation}\n",
    "R_{V}(t+\\tau, t)=E\\left[V^{*}(t) V(t+\\tau)\\right]=\\sum_{n=-\\infty}^{\\infty} \\sum_{m=-\\infty}^{\\infty} E\\left[s_{n}^{*} s_{m}\\right] p(t-nT) p(t+\\tau-mT)\n",
    "\\end{equation}\n",
    "$$\n",
    "\n",
    "Considerando que $\\{s_n\\}$ seja uma sequência de símbolos de informação estacionária no sentido amplo, sua autocorrelação $R_{s}$ é definida como\n",
    "\n",
    "$$\n",
    "\\begin{equation}\n",
    "\\begin{aligned}\n",
    "R_{s}(n,n+m)&=E\\left[s_{n}^{*}s_{n+m}\\right]\\nonumber\\\\\n",
    "        &=R_{s}((n+m)-n)\\nonumber\\\\\n",
    "        &=R_{s}(m)\n",
    "\\end{aligned}\n",
    "\\end{equation}\n",
    "$$\n",
    "\n",
    "Logo,\n",
    "$$\n",
    "\\begin{equation}\n",
    "R_{V}(t+\\tau, t) =\\sum_{n=-\\infty}^{\\infty} \\sum_{m=-\\infty}^{\\infty} R_{s}(m-n) p(t-nT) p(t+\\tau-mT).\n",
    "\\end{equation}\n",
    "$$\n",
    "\n",
    "Podemos reescrever os somatórios de uma maneira mais conveniente fazendo a mudança de variáveis $m'= m-n$, de forma que\n",
    "\n",
    "$$\n",
    "\\begin{equation}\n",
    "\\begin{aligned}\n",
    "R_{V}(t+\\tau, t) &=\\sum_{n=-\\infty}^{\\infty} \\sum_{m=-\\infty}^{\\infty} R_{s}(m-n) p(t-nT) p(t+\\tau-mT)\\nonumber\\\\\n",
    "                 &=\\sum_{n=-\\infty}^{\\infty} \\sum_{m'=-\\infty}^{\\infty} R_{s}(m') p(t-nT) p(t+\\tau-(m'+n)T)\\nonumber\\\\\n",
    "                 &=\\sum_{m'=-\\infty}^{\\infty} R_{s}(m') \\sum_{n=-\\infty}^{\\infty} p(t-nT) p(t+\\tau -nT -m'T)\n",
    "\\end{aligned}\n",
    "\\end{equation}\n",
    "$$\n",
    "\n",
    "ou seja, apenas renomeando o índice do somatório, temos\n",
    "\n",
    "$$\n",
    "\\begin{equation}\n",
    "R_{V}(t+\\tau, t) =\\sum_{m=-\\infty}^{\\infty} R_{s}(m) \\sum_{n=-\\infty}^{\\infty} p(t-nT) p(t+\\tau -nT -mT)\n",
    "\\end{equation}\n",
    "$$\n",
    "\n",
    "Perceba que também a autocorrelação $R_{V}(t+\\tau, t)$ é periódica em $t$ com período $T$, o que caracteriza $V(t)$ como um *processo cicloestacionário*. Desse modo, podemos caracterizar $V(t)$ pela sua função de autocorrelação média $\\bar{R}_{V}(t+\\tau, t)$ definida por\n",
    "\n",
    "$$\n",
    "\\begin{equation}\n",
    "\\begin{aligned}\n",
    "\\bar{R}_{V}(\\tau) &=\\frac{1}{T} \\int_{-T / 2}^{T / 2} R_{V}(t+\\tau, t) d t \\\\\n",
    "&=\\sum_{m=-\\infty}^{\\infty} R_{s}(m) \\sum_{n=-\\infty}^{\\infty} \\frac{1}{T} \\int_{-T / 2}^{T / 2} p(t-n T) p(t+\\tau-n T-m T) d t \\\\\n",
    "&=\\sum_{m=-\\infty}^{\\infty} R_{s}(m) \\sum_{n=-\\infty}^{\\infty} \\frac{1}{T} \\int_{n T-T / 2}^{n T+T / 2} p(t) p(t+\\tau-m T) d t \\\\\n",
    "&=\\frac{1}{T} \\sum_{m=-\\infty}^{\\infty} R_{s}(m) \\int_{-\\infty}^{\\infty} p(t) p(t+\\tau-m T) d t.\n",
    "\\end{aligned}\n",
    "\\end{equation}\n",
    "$$\n",
    "\n",
    "A integral $\\int_{-\\infty}^{\\infty} p(t) p(t+\\tau-m T) dt$ é interpretada como a autocorrelação temporal $R_{p}(\\tau)$ do pulso $p(t)$, ou seja\n",
    "\n",
    "$$\n",
    "\\begin{equation}\n",
    "R_{p}(\\tau)=\\int_{-\\infty}^{\\infty} p(t) p(t+\\tau) dt.\n",
    "\\end{equation}\n",
    "$$\n",
    "\n",
    "Assim, temos\n",
    "\n",
    "$$\n",
    "\\begin{equation}\n",
    "\\bar{R}_{V}(\\tau)=\\frac{1}{T} \\sum_{m=-\\infty}^{\\infty} R_{s}(m) R_{p}(\\tau-m T).\n",
    "\\end{equation}\n",
    "$$\n",
    "\n",
    "### Densidade espectral de potência $\\mathcal{S}_{V}(f)$\n",
    "\n",
    "Uma vez estabelecida $\\bar{R}_{V}(\\tau)$, podemos utilizar o teorema de Wiener-Khinchin [2] para determinar a densidade espectral de potência $\\mathcal{S}_{V}(f)$ associada a $V(t)$. O teorema estabelece que $\\mathcal{S}_{V}(f)$ e $\\bar{R}_{V}(\\tau)$ são relacionadas por meio da transformada de Fourier, ou seja\n",
    "\n",
    "$$\n",
    "\\begin{equation}\n",
    "\\begin{aligned}\n",
    "\\mathcal{S}_{V}(f) &=\\int_{-\\infty}^{\\infty} \\bar{R}_{V}(\\tau) e^{-j 2 \\pi f \\tau} d \\tau \\\\\n",
    "&=\\frac{1}{T} \\sum_{m=-\\infty}^{\\infty} R_{s}(m) \\int_{-\\infty}^{\\infty} R_{p}(\\tau-m T) e^{-j 2 \\pi f \\tau} d \\tau \\\\\n",
    "&=\\frac{1}{T} \\sum_{m=-\\infty}^{\\infty} R_{s}(m) e^{j 2 \\pi f m T}\\int_{-\\infty}^{\\infty} R_{p}(\\tau) e^{-j 2 \\pi f \\tau} d \\tau \\\\\n",
    "&=\\frac{1}{T} \\sum_{m=-\\infty}^{\\infty} R_{s}(m) e^{-j 2 \\pi f m T}\\int_{-\\infty}^{\\infty} \\left[\\int_{-\\infty}^{\\infty} p(t) p(t+\\tau) d t\\right] e^{-j 2 \\pi f \\tau} d \\tau \\\\\n",
    "&=\\frac{1}{T} \\sum_{m=-\\infty}^{\\infty} R_{s}(m) e^{-j 2 \\pi f m T}\\int_{-\\infty}^{\\infty}p(t) e^{j 2 \\pi f t}dt\\int_{-\\infty}^{\\infty}p(\\tau)e^{-j 2 \\pi f \\tau} d \\tau \\\\\n",
    "&=\\frac{1}{T} \\mathcal{S}_{s}(f)P^*(f)P(f) \\\\\n",
    "&=\\frac{1}{T} \\mathcal{S}_{s}(f)\\left|P(f)\\right|^{2}.\n",
    "\\end{aligned}\n",
    "\\end{equation}\n",
    "$$\n",
    "\n",
    "Portanto,\n",
    "\n",
    "$$\n",
    "\\begin{equation}\n",
    "\\mathcal{S}_{V}(f) = \\frac{1}{T} \\mathcal{S}_{s}(f)\\left|P(f)\\right|^{2},\n",
    "\\end{equation}\n",
    "$$\n",
    "\n",
    "em que $\\mathcal{S}_{s}(f)$ é dada por\n",
    "$$\n",
    "\\begin{equation}\n",
    "\\mathcal{S}_{s}(f)=\\sum_{m=-\\infty}^{\\infty} R_{s}(m) e^{-j 2 \\pi f m T}.\n",
    "\\end{equation}\n",
    "$$\n",
    "\n",
    "Em resumo, a densidade espectral de potência de $\\mathcal{S}_{V}(f)$ depende de dois parâmetros: \n",
    "\n",
    "1. Do espectro de potência associado à transformada de Fourier $P(f)$ do pulso $p(t)$.\n",
    "2. Das caraterísticas espectrais $\\mathcal{S}_{s}(f)$ da sequência de símbolos de informação $\\{s_n\\}$.\n",
    "\n",
    "No caso particular, que engloba a maioria das situações práticas, os símbolos em $\\{s_n\\}$ são mutuamente descorrelacionados, de forma que\n",
    "\n",
    "$$\n",
    "\\begin{equation}\n",
    "R_{s}(m) = \\begin{cases}\\sigma_{s}^{2}+m_{s}^{2}, & m=0 \\\\ m_{s}^{2}, & m \\neq 0\\end{cases}\n",
    "\\end{equation}\n",
    "$$\n",
    "\n",
    "em que $\\sigma_{s}^{2}+m_{s}^{2}=E[s^2]$ é a energia média dos símbolos da constelação.\n",
    "\n",
    "ou seja,\n",
    "\n",
    "$$\n",
    "\\begin{equation}\n",
    "\\mathcal{S}_{s}(f)=\\sigma_{s}^{2}+m_{s}^{2} \\sum_{m=-\\infty}^{\\infty} e^{-j 2 \\pi f m T}\n",
    "\\end{equation}\n",
    "$$\n",
    "\n",
    "Utilizando a relação entre um trem trem de impulsos no domínio da frequência e sua representação em termos da série de Fourier, temos que\n",
    "\n",
    "$$\n",
    "\\begin{equation}\n",
    "\\sum_{n=-\\infty}^{\\infty} e^{-j 2 \\pi f mT}=\\frac{1}{T} \\sum_{m=-\\infty}^{\\infty} \\delta\\left(f-\\frac{m}{T}\\right).\n",
    "\\end{equation}\n",
    "$$\n",
    "\n",
    "Assim, podemos reescrever\n",
    "\n",
    "$$\n",
    "\\begin{equation}\n",
    "\\mathcal{S}_{s}(f)=\\sigma_{s}^{2}+\\frac{m_{s}^{2}}{T} \\sum_{m=-\\infty}^{\\infty} \\delta\\left(f-\\frac{m}{T}\\right).\n",
    "\\end{equation}\n",
    "$$\n",
    "\n",
    "Finalmente, $\\mathcal{S}_{V}(f)$ será dada por\n",
    "\n",
    "$$\n",
    "\\begin{equation}\n",
    "\\mathcal{S}_{V}(f)=\\frac{\\sigma_{s}^{2}}{T}\\left|P(f)\\right|^{2}+\\frac{m_{s}^{2}}{T^{2}} \\sum_{m=-\\infty}^{\\infty}\\left|P\\left(\\frac{m}{T}\\right)\\right|^{2} \\delta\\left(f-\\frac{m}{T}\\right).\n",
    "\\end{equation}\n",
    "$$\n",
    "\n",
    "De maneira geral, as constelações dos formatos de modulação ASK, PSK, QAM são definidas de tal forma que $m_{s}=0$, bastando apenas que os símbolos sejam posicionados de forma simétrica no plano complexo. Nesse caso, temos\n",
    "\n",
    "$$\n",
    "\\begin{equation}\n",
    "\\mathcal{S}_{V}(f)=\\frac{\\sigma_{s}^{2}}{T}\\left|P(f)\\right|^{2}\n",
    "\\end{equation}\n",
    "$$\n",
    "\n",
    "ou seja, o formato de $\\mathcal{S}_{V}(f)$ depende apenas do tipo de pulso $p(t)$ escolhido.\n",
    "\n",
    "Para mais detalhes, ver capítulo 8 de [2]."
   ]
  },
  {
   "cell_type": "markdown",
   "metadata": {},
   "source": [
    "### Exemplos de densidade espectral de potência de sinais modulados"
   ]
  },
  {
   "cell_type": "code",
   "execution_count": null,
   "metadata": {
    "ExecuteTime": {
     "end_time": "2023-04-11T17:29:56.706723Z",
     "start_time": "2023-04-11T17:29:56.351535Z"
    }
   },
   "outputs": [],
   "source": [
    "# gera sequência de bits pseudo-aleatórios\n",
    "bits   = np.random.randint(2, size=10000)    \n",
    "n      = np.arange(0, bits.size)\n",
    "\n",
    "# mapeia bits para pulsos elétricos\n",
    "symbTx = 2*bits-1\n",
    "symbTx = symbTx/np.sqrt(signal_power(symbTx))\n",
    "\n",
    "# upsampling\n",
    "symbolsUp = upsample(symbTx, SpS)\n",
    "\n",
    "# # pulso cosseno levantado (raised cosine)\n",
    "# Ncoeffs = 640\n",
    "# rolloff = 0.1\n",
    "\n",
    "# pulse = pulseShape('rc', SpS, Ncoeffs, rolloff, Ts)\n",
    "# pulse = pulse/max(abs(pulse))\n",
    "\n",
    "# pulso NRZ típico\n",
    "pulse = pulseShape('nrz', SpS)\n",
    "pulse = pulse/max(abs(pulse))\n",
    "\n",
    "# formatação de pulso\n",
    "sigTx  = firFilter(pulse, symbolsUp)\n",
    "\n",
    "# plota psd\n",
    "plt.figure();\n",
    "plt.xlim(-4*Rs,4*Rs);\n",
    "plt.ylim(-250,-50);\n",
    "plt.psd(sigTx,Fs=Fa, NFFT = 16*1024, sides='twosided', label = 'Espectro do sinal elétrico')\n",
    "plt.legend(loc='upper left');"
   ]
  },
  {
   "cell_type": "code",
   "execution_count": null,
   "metadata": {
    "ExecuteTime": {
     "end_time": "2023-04-11T17:29:57.610862Z",
     "start_time": "2023-04-11T17:29:57.478600Z"
    }
   },
   "outputs": [],
   "source": [
    "P0 = 100e-3 # potência da portadora CW na entrada no MZM\n",
    "Vπ = 2 \n",
    "Vb = -Vπ/2\n",
    "Ai = np.sqrt(P0)\n",
    "\n",
    "sigTxo = mzm(Ai, (Vπ/2)*sigTx, Vπ, Vb)\n",
    "\n",
    "# plota psd\n",
    "plt.figure();\n",
    "plt.xlim(-4*Rs,4*Rs);\n",
    "plt.ylim(-250,-50);\n",
    "plt.psd(np.abs(sigTxo)**2,Fs=Fa, NFFT = 16*1024, sides='twosided', label = 'Espectro do sinal óptico [OOK]')\n",
    "plt.legend(loc='upper left');"
   ]
  },
  {
   "cell_type": "code",
   "execution_count": null,
   "metadata": {
    "ExecuteTime": {
     "end_time": "2023-04-11T17:30:04.951551Z",
     "start_time": "2023-04-11T17:30:04.751919Z"
    }
   },
   "outputs": [],
   "source": [
    "Nsamples = 10000\n",
    "\n",
    "# diagrama de olho\n",
    "eyediagram(sigTx, Nsamples, SpS)\n",
    "eyediagram(np.abs(sigTxo)**2, Nsamples, SpS)"
   ]
  },
  {
   "cell_type": "markdown",
   "metadata": {},
   "source": [
    "## Gerando sinais M-PAM"
   ]
  },
  {
   "cell_type": "code",
   "execution_count": null,
   "metadata": {
    "ExecuteTime": {
     "end_time": "2023-04-11T17:31:34.641580Z",
     "start_time": "2023-04-11T17:31:34.522358Z"
    },
    "hide_input": true
   },
   "outputs": [],
   "source": [
    "def genConst(M, plotBits):\n",
    "    constType='pam'\n",
    "    \n",
    "    try:\n",
    "        plt.figure(figsize=(4,4))\n",
    "        plt.plot([],[])\n",
    "        plt.grid()\n",
    "        plt.ylabel('$A_Q$', fontsize=14)\n",
    "        plt.xlabel('$A_I$', fontsize=14)\n",
    "        plt.axis('square')\n",
    "\n",
    "        # plot modulation bit-to-symbol mapping    \n",
    "        constSymb = GrayMapping(M, constType)             # Gray constellation mapping\n",
    "        bitMap = demodulateGray(constSymb, M, constType)  # bit mapping\n",
    "        bitMap = bitMap.reshape(-1, int(np.log2(M)))\n",
    "\n",
    "        # generate random bits\n",
    "        bits = bitMap.reshape(1, -1)\n",
    "\n",
    "        # Map bits to constellation symbols\n",
    "        symbTx = modulateGray(bits, M, constType)\n",
    "\n",
    "        # normalize symbols energy to 1\n",
    "        if constType == 'ook':\n",
    "            plt.xlim(-1.25*max(symbTx.real),1.25*max(symbTx.real))\n",
    "            plt.ylim(-1.25*max(symbTx.real),1.25*max(symbTx.real));\n",
    "            plt.vlines(0, -1.25*max(symbTx.real),1.25*max(symbTx.real))\n",
    "            plt.hlines(0, -1.25*max(symbTx.real),1.25*max(symbTx.real))\n",
    "        else:\n",
    "            plt.xlim(1.25*min(symbTx.real),1.25*max(symbTx.real))\n",
    "            plt.ylim(1.25*min(symbTx.real),1.25*max(symbTx.real));\n",
    "            plt.vlines(0, 1.25*min(symbTx.real), 1.25*max(symbTx.real))\n",
    "            plt.hlines(0, 1.25*min(symbTx.real), 1.25*max(symbTx.real))\n",
    "        \n",
    "        if M>64:\n",
    "            plt.plot(symbTx.real, symbTx.imag,'o', markersize=4);\n",
    "        else:\n",
    "            plt.plot(symbTx.real, symbTx.imag,'o', markersize=10);                \n",
    "      \n",
    "        plt.title('Constelação '+str(M)+'-'+constType.upper());\n",
    "        \n",
    "        if plotBits:\n",
    "            if M>=64:\n",
    "                fontSize = 6\n",
    "            else:\n",
    "                fontSize = 12\n",
    "\n",
    "            for ind, symb in enumerate(constSymb):\n",
    "                bitMap[ind,:]\n",
    "                plt.annotate(str(bitMap[ind,:])[1:-1:2], xy = (symb.real-0.05, symb.imag+0.15), size=fontSize)\n",
    "        \n",
    "    except:\n",
    "        return    \n",
    "    \n",
    "interact(genConst, M=[2, 4, 8, 16, 64, 256, 1024], plotBits=[True, False]);"
   ]
  },
  {
   "cell_type": "code",
   "execution_count": null,
   "metadata": {
    "ExecuteTime": {
     "end_time": "2023-04-11T17:33:14.174686Z",
     "start_time": "2023-04-11T17:33:14.044490Z"
    }
   },
   "outputs": [],
   "source": [
    "# parâmetros da simulação\n",
    "M = 4               # ordem da modulação\n",
    "constType = 'pam'   # tipo de modulação\n",
    "SpS = 16            # Amostras por símbolo\n",
    "Rs  = 10e9          # Taxa de símbolos\n",
    "Ts  = 1/Rs          # Período de símbolo em segundos\n",
    "Fa  = 1/(Ts/SpS)    # Frequência de amostragem do sinal (amostras/segundo)\n",
    "Ta  = 1/Fa          # Período de amostragem\n",
    "\n",
    "# generate pseudo-random bit sequence\n",
    "bitsTx = np.random.randint(2, size = int(20*np.log2(M)))\n",
    "\n",
    "# generate ook modulated symbol sequence\n",
    "symbTx = modulateGray(bitsTx, M, constType)    \n",
    "symbTx = pnorm(symbTx) # power normalization\n",
    "\n",
    "plt.stem(symbTx, basefmt=\" \", label ='símbolos 4-PAM')\n",
    "plt.xlabel('n')\n",
    "plt.ylabel('$s_n$')\n",
    "plt.grid()\n",
    "plt.legend(loc='upper right')\n",
    "plt.xticks(np.arange(0, symbTx.size));\n",
    "\n",
    "df = pd.DataFrame()\n",
    "for b in range(int(np.log2(M))):\n",
    "    df['bits '+str(b)] = bitsTx[b::int(np.log2(M))]\n",
    "\n",
    "display(df.T)"
   ]
  },
  {
   "cell_type": "code",
   "execution_count": null,
   "metadata": {
    "ExecuteTime": {
     "end_time": "2023-04-11T17:39:29.380832Z",
     "start_time": "2023-04-11T17:39:29.153291Z"
    }
   },
   "outputs": [],
   "source": [
    "# upsampling\n",
    "symbolsUp = upsample(symbTx, SpS)\n",
    "\n",
    "# pulso NRZ típico\n",
    "pulse = pulseShape('nrz', SpS)\n",
    "pulse = pulse/max(abs(pulse))\n",
    "\n",
    "# formatação de pulso\n",
    "sigTx  = firFilter(pulse, symbolsUp)\n",
    "sigTx = sigTx.real\n",
    "sigTx = sigTx/np.max(np.abs(sigTx)) # ajusta amplitudes do sinal para variar entre -1 e 1\n",
    "\n",
    "t = np.arange(0, sigTx.size)*(Ta/1e-12)\n",
    "\n",
    "# instantes centrais dos intervalos de sinalização\n",
    "symbolsUp = upsample(symbTx, SpS)\n",
    "symbolsUp = symbolsUp/np.max(np.abs(symbolsUp))\n",
    "symbolsUp[symbolsUp==0] = np.nan\n",
    "\n",
    "plt.figure(2)\n",
    "plt.plot(t, sigTx,'-',linewidth=3)\n",
    "plt.plot(t, symbolsUp.real,'o')\n",
    "plt.xlabel('tempo [ps]')\n",
    "plt.ylabel('amplitude [V]')\n",
    "plt.title('$\\sum_{n}\\;s_{n}\\;p(t-n T_s)$')\n",
    "plt.grid()\n",
    "\n",
    "t = (0.5*Ts + np.arange(0, symbTx.size*Ts, Ts))/1e-12\n",
    "plt.vlines(t, -1, 1, linestyles='dashed', color = 'k');\n",
    "plt.xlim(0, max(t));\n",
    "\n",
    "# modulação óptica\n",
    "P0 = 100e-3 # potência da portadora CW na entrada no MZM\n",
    "Vπ = 2 \n",
    "Vb = -Vπ/2\n",
    "Ai = np.sqrt(P0)\n",
    "\n",
    "sigTxo = mzm(Ai, (Vπ/2)*sigTx, Vπ, Vb)\n",
    "\n",
    "# plota sinal \n",
    "t = np.arange(0, sigTxo.size)*(Ta/1e-12)\n",
    "\n",
    "plt.figure(3)\n",
    "plt.plot(t, np.abs(sigTxo)**2,'-', linewidth=3)\n",
    "plt.xlabel('tempo [ps]')\n",
    "plt.ylabel('potência [W]')\n",
    "plt.title('$\\sqrt{P_0}\\;\\sum_{n}\\;a_{n}\\;p(t-n T_s)$')\n",
    "plt.grid()\n",
    "\n",
    "t = (0.5 + np.arange(0, symbTx.size))*(Ts/1e-12)\n",
    "plt.xlim(0, max(t));\n",
    "plt.vlines(t, 0, P0, linestyles='dashed', color = 'k');\n",
    "plt.xlim(0, max(t));"
   ]
  },
  {
   "cell_type": "code",
   "execution_count": null,
   "metadata": {
    "ExecuteTime": {
     "end_time": "2023-04-11T17:40:28.804791Z",
     "start_time": "2023-04-11T17:40:28.354036Z"
    }
   },
   "outputs": [],
   "source": [
    "# parâmetros da simulação\n",
    "M = 4               # ordem da modulação\n",
    "constType = 'pam'   # tipo de modulação\n",
    "SpS = 16            # Amostras por símbolo\n",
    "Rs  = 10e9          # Taxa de símbolos\n",
    "Ts  = 1/Rs          # Período de símbolo em segundos\n",
    "Fa  = 1/(Ts/SpS)    # Frequência de amostragem do sinal (amostras/segundo)\n",
    "Ta  = 1/Fa          # Período de amostragem\n",
    "\n",
    "# generate pseudo-random bit sequence\n",
    "bitsTx = np.random.randint(2, size = int(10e4*np.log2(M)))\n",
    "\n",
    "# generate ook modulated symbol sequence\n",
    "symbTx = modulateGray(bitsTx, M, constType)    \n",
    "symbTx = pnorm(symbTx) # power normalization\n",
    "\n",
    "# upsampling\n",
    "symbolsUp = upsample(symbTx, SpS)\n",
    "\n",
    "# pulso NRZ típico\n",
    "pulse = pulseShape('nrz', SpS)\n",
    "pulse = pulse/max(abs(pulse))\n",
    "\n",
    "# formatação de pulso\n",
    "sigTx  = firFilter(pulse, symbolsUp)\n",
    "sigTx = sigTx.real\n",
    "sigTx = sigTx/np.max(np.abs(sigTx)) # ajusta amplitudes do sinal para variar entre -1 e 1\n",
    "\n",
    "# modulação óptica\n",
    "P0 = 100e-3 # potência da portadora CW na entrada no MZM\n",
    "Vπ = 2 \n",
    "Vb = -Vπ/2\n",
    "Ai = np.sqrt(P0)\n",
    "sigTxo = mzm(Ai, (Vπ/2)*sigTx, Vπ, Vb)\n",
    "\n",
    "Nsamples = 20000\n",
    "\n",
    "# plota psd\n",
    "plt.figure();\n",
    "plt.xlim(-4*Rs,4*Rs);\n",
    "plt.ylim(-250,-50);\n",
    "plt.psd(sigTx,Fs=Fa, NFFT = 16*1024, sides='twosided', label = 'Espectro do sinal elétrico 4-PAM')\n",
    "plt.legend(loc='upper left');\n",
    "\n",
    "\n",
    "# plota psd\n",
    "plt.figure();\n",
    "plt.xlim(-4*Rs,4*Rs);\n",
    "plt.ylim(-250,-50);\n",
    "plt.psd(np.abs(sigTxo)**2,Fs=Fa, NFFT = 16*1024, sides='twosided', label = 'Espectro do sinal óptico 4-PAM')\n",
    "plt.legend(loc='upper left');"
   ]
  },
  {
   "cell_type": "code",
   "execution_count": null,
   "metadata": {
    "ExecuteTime": {
     "end_time": "2023-04-11T17:40:40.199159Z",
     "start_time": "2023-04-11T17:40:32.100476Z"
    },
    "lines_to_next_cell": 0
   },
   "outputs": [],
   "source": [
    "# diagrama de olho\n",
    "eyediagram(sigTx, sigTxo.size-SpS, SpS, plotlabel='elétrico')\n",
    "\n",
    "# diagrama de olho\n",
    "eyediagram(np.abs(sigTxo)**2, sigTxo.size-SpS, SpS, plotlabel='óptico')"
   ]
  },
  {
   "cell_type": "markdown",
   "metadata": {
    "lines_to_next_cell": 2
   },
   "source": [
    "## Gerando sinais modulados em fase e quadratura (PSK, QAM)"
   ]
  },
  {
   "cell_type": "code",
   "execution_count": null,
   "metadata": {
    "ExecuteTime": {
     "end_time": "2023-04-11T17:47:28.840448Z",
     "start_time": "2023-04-11T17:47:28.710636Z"
    },
    "hide_input": true
   },
   "outputs": [],
   "source": [
    "def genConst(M, constType, plotBits):\n",
    "    try:\n",
    "        plt.figure(figsize=(4,4))\n",
    "        plt.plot([],[])\n",
    "        plt.grid()\n",
    "        plt.ylabel('$A_Q$', fontsize=14)\n",
    "        plt.xlabel('$A_I$', fontsize=14)\n",
    "        plt.axis('square')\n",
    "\n",
    "        # plot modulation bit-to-symbol mapping    \n",
    "        constSymb = GrayMapping(M, constType)             # Gray constellation mapping\n",
    "        bitMap = demodulateGray(constSymb, M, constType)  # bit mapping\n",
    "        bitMap = bitMap.reshape(-1, int(np.log2(M)))\n",
    "\n",
    "        # generate random bits\n",
    "        bits = bitMap.reshape(1, -1)\n",
    "\n",
    "        # Map bits to constellation symbols\n",
    "        symbTx = modulateGray(bits, M, constType)\n",
    "\n",
    "        # normalize symbols energy to 1\n",
    "        if constType == 'ook':\n",
    "            plt.xlim(-1.25*max(symbTx.real),1.25*max(symbTx.real))\n",
    "            plt.ylim(-1.25*max(symbTx.real),1.25*max(symbTx.real));\n",
    "            plt.vlines(0, -1.25*max(symbTx.real),1.25*max(symbTx.real))\n",
    "            plt.hlines(0, -1.25*max(symbTx.real),1.25*max(symbTx.real))\n",
    "        else:\n",
    "            plt.xlim(1.25*min(symbTx.real),1.25*max(symbTx.real))\n",
    "            plt.ylim(1.25*min(symbTx.real),1.25*max(symbTx.real));\n",
    "            plt.vlines(0, 1.25*min(symbTx.real), 1.25*max(symbTx.real))\n",
    "            plt.hlines(0, 1.25*min(symbTx.real), 1.25*max(symbTx.real))\n",
    "        \n",
    "        if M>64:\n",
    "            plt.plot(symbTx.real, symbTx.imag,'o', markersize=4);\n",
    "        else:\n",
    "            plt.plot(symbTx.real, symbTx.imag,'o', markersize=10);                \n",
    "      \n",
    "        plt.title('Constelação '+str(M)+'-'+constType.upper());\n",
    "        \n",
    "        if plotBits:\n",
    "            if M>=64:\n",
    "                fontSize = 6\n",
    "            else:\n",
    "                fontSize = 12\n",
    "\n",
    "            for ind, symb in enumerate(constSymb):\n",
    "                bitMap[ind,:]\n",
    "                plt.annotate(str(bitMap[ind,:])[1:-1:2], xy = (symb.real-0.05, symb.imag+0.15), size=fontSize)\n",
    "        \n",
    "    except:\n",
    "        return    \n",
    "    \n",
    "interact(genConst, M=[2, 4, 8, 16, 64, 256, 1024], constType=['psk','qam'], plotBits=[True, False]);"
   ]
  },
  {
   "cell_type": "code",
   "execution_count": null,
   "metadata": {
    "ExecuteTime": {
     "end_time": "2023-04-11T17:47:29.338536Z",
     "start_time": "2023-04-11T17:47:29.326028Z"
    },
    "hide_input": true
   },
   "outputs": [],
   "source": [
    "AI, AQ, t = sp.symbols('A_I, A_Q, t', real=True)\n",
    "\n",
    "E = AI*cos(omega_c*t) + AQ*sin(omega_c*t)\n",
    "\n",
    "print('Portadora:')\n",
    "disp(Math('E(t) = '+sp.latex(E)))\n",
    "\n",
    "disp(Math('\\hat{E}(t) = '+sp.latex(AI+j*AQ)))"
   ]
  },
  {
   "cell_type": "markdown",
   "metadata": {
    "hide_input": true
   },
   "source": [
    "<img src=\"./figuras/IQM.png\" width=\"900\">"
   ]
  },
  {
   "cell_type": "code",
   "execution_count": null,
   "metadata": {
    "ExecuteTime": {
     "end_time": "2023-04-11T17:47:30.604075Z",
     "start_time": "2023-04-11T17:47:30.595099Z"
    }
   },
   "outputs": [],
   "source": [
    "from optic.models import iqm\n",
    "\n",
    "help(iqm)"
   ]
  },
  {
   "cell_type": "code",
   "execution_count": null,
   "metadata": {
    "ExecuteTime": {
     "end_time": "2023-04-11T18:00:17.720833Z",
     "start_time": "2023-04-11T18:00:16.894416Z"
    },
    "hide_input": false
   },
   "outputs": [],
   "source": [
    "# parâmetros da simulação\n",
    "M = 16               # ordem da modulação\n",
    "constType = 'qam'   # tipo de modulação\n",
    "SpS = 16            # Amostras por símbolo\n",
    "Rs  = 10e9          # Taxa de símbolos\n",
    "Ts  = 1/Rs          # Período de símbolo em segundos\n",
    "Fa  = 1/(Ts/SpS)    # Frequência de amostragem do sinal (amostras/segundo)\n",
    "Ta  = 1/Fa          # Período de amostragem\n",
    "\n",
    "# generate pseudo-random bit sequence\n",
    "bitsTx = np.random.randint(2, size = int(20e4*np.log2(M)))\n",
    "\n",
    "# generate ook modulated symbol sequence\n",
    "symbTx = modulateGray(bitsTx, M, constType)\n",
    "symbTx = symbTx/np.max(np.abs(symbTx.real)) # ajusta amplitudes do sinal para variar entre -1 e 1\n",
    "\n",
    "# upsampling\n",
    "symbolsUp = upsample(symbTx, SpS)\n",
    "\n",
    "# pulso NRZ típico\n",
    "pulse = pulseShape('nrz', SpS)\n",
    "pulse = pulse/max(abs(pulse))\n",
    "\n",
    "# formatação de pulso\n",
    "sigTx = firFilter(pulse, symbolsUp)\n",
    "\n",
    "sigTx = sigTx/np.max(np.abs(sigTx.real)) # ajusta amplitudes do sinal para variar entre -1 e 1\n",
    "\n",
    "# plota psd\n",
    "plt.figure();\n",
    "plt.psd(sigTx,Fs=Fa, NFFT = 16*1024, sides='twosided', label = 'Espectro elétrico')\n",
    "plt.legend(loc='upper left');\n",
    "plt.xlim(-4*Rs,4*Rs);\n",
    "plt.ylim(-250,-50);\n",
    "\n",
    "# modulação óptica\n",
    "Vπ = 2 \n",
    "Vb = -Vπ\n",
    "Ai = np.sqrt(P0)\n",
    "sigTxo = iqm(Ai, 0.1*Vπ*sigTx, Vπ, Vb, Vb)\n",
    "\n",
    "# plota psd\n",
    "plt.figure();\n",
    "plt.psd(sigTxo, Fs=Fa, NFFT = 16*1024, sides='twosided', label = 'Espectro óptico')\n",
    "plt.legend(loc='upper left');\n",
    "plt.xlim(-4*Rs,4*Rs);\n",
    "plt.ylim(-250,-50);"
   ]
  },
  {
   "cell_type": "code",
   "execution_count": null,
   "metadata": {
    "ExecuteTime": {
     "end_time": "2023-04-11T18:00:32.214401Z",
     "start_time": "2023-04-11T18:00:19.786845Z"
    }
   },
   "outputs": [],
   "source": [
    "plt.figure(figsize=(4,4))\n",
    "plt.plot(sigTxo.real,sigTxo.imag,'k--', linewidth=0.5)\n",
    "plt.plot(np.sqrt(signal_power(sigTxo))*symbTx.real, np.sqrt(signal_power(sigTxo))*symbTx.imag,'o', markersize=10);\n",
    "plt.grid()\n",
    "plt.axis('equal');\n",
    "\n",
    "# diagrama de olho\n",
    "eyediagram(sigTxo, sigTxo.size-SpS, SpS, ptype='fast')\n",
    "eyediagram(np.abs(sigTxo)**2, sigTxo.size-SpS, SpS, ptype='fast')"
   ]
  },
  {
   "cell_type": "markdown",
   "metadata": {},
   "source": [
    "## Formatação  de pulso óptica: pulsos retorno-ao-zero (RZ)"
   ]
  },
  {
   "cell_type": "code",
   "execution_count": null,
   "metadata": {
    "ExecuteTime": {
     "end_time": "2023-04-11T18:01:00.804039Z",
     "start_time": "2023-04-11T18:00:55.058287Z"
    },
    "lines_to_next_cell": 2
   },
   "outputs": [],
   "source": [
    "# Pulsos RZ 50%: Vb = Vπ/2, Vs = Vπ/2, fs = Rs,   ϕs = π\n",
    "# Pulsos RZ 33%: Vb = 0,    Vs = Vπ,   fs = Rs/2, ϕs = π/2\n",
    "# Pulsos RZ 67%: Vb = Vπ,   Vs = Vπ,   fs = Rs/2, ϕs = 0\n",
    "\n",
    "t = np.arange(0, sigTxo.size)*Ta\n",
    "\n",
    "RZ = 33 # tipo de pulso RZ (33%, 50%, 67%)\n",
    "\n",
    "# parâmetros do MZM\n",
    "Vπ = 2 \n",
    "Ai = 1\n",
    "\n",
    "# parâmetros do formatador para cada tipo de pulso RZ\n",
    "if RZ == 33:\n",
    "    \n",
    "    Vb = 0    \n",
    "    # parâmetros do sinal senoidal\n",
    "    fs = Rs/2\n",
    "    Vs = Vπ\n",
    "    ϕs = np.pi/2 \n",
    "    \n",
    "elif RZ == 50:\n",
    "    \n",
    "    Vb = Vπ/2    \n",
    "    # parâmetros do sinal senoidal\n",
    "    fs = Rs\n",
    "    Vs = Vπ/2\n",
    "    ϕs = np.pi\n",
    "    \n",
    "elif RZ == 67:\n",
    "    \n",
    "    Vb = Vπ    \n",
    "    # parâmetros do sinal senoidal\n",
    "    fs = Rs/2\n",
    "    Vs = Vπ\n",
    "    ϕs = 0  \n",
    "\n",
    "    \n",
    "# gera sinal senoidal\n",
    "senoideRF = Vs*np.cos(2*np.pi*fs*t + ϕs)\n",
    "\n",
    "# MZM utilizado como formatador de pulso (pulse carver)\n",
    "sigTxo_   = mzm(sigTxo, senoideRF, Vπ, Vb)\n",
    "\n",
    "Nsamples = 10000\n",
    "\n",
    "# diagramas de olho\n",
    "eyediagram(np.abs(sigTxo)**2,sigTxo.size-SpS, SpS, plotlabel='NRZ', ptype='fast')\n",
    "eyediagram(np.abs(mzm(Ai, senoideRF,  Vπ, Vb))**2, sigTxo.size-SpS, SpS, plotlabel='pulsos RZ '+str(RZ)+'%', ptype='fast')\n",
    "eyediagram(np.abs(sigTxo_)**2, sigTxo.size-SpS, SpS, plotlabel='RZ '+str(RZ)+'%', ptype='fast')\n",
    "\n",
    "# plota psd\n",
    "plt.figure();\n",
    "plt.xlim(-4*Rs,4*Rs);\n",
    "plt.ylim(-250,-50);\n",
    "plt.psd(np.abs(sigTxo_)**2,Fs=Fa, NFFT = 16*1024, sides='twosided', label = 'Espectro do sinal óptico RZ '+str(RZ)+'%')\n",
    "plt.legend(loc='upper left');"
   ]
  },
  {
   "cell_type": "code",
   "execution_count": null,
   "metadata": {
    "ExecuteTime": {
     "end_time": "2023-04-11T18:04:22.051218Z",
     "start_time": "2023-04-11T18:03:49.270971Z"
    }
   },
   "outputs": [],
   "source": [
    "plt.figure(figsize=(4,4))\n",
    "plt.plot(sigTxo.real,sigTxo.imag,'k--', linewidth=0.5)\n",
    "plt.plot(np.sqrt(signal_power(sigTxo))*symbTx.real, np.sqrt(signal_power(sigTxo))*symbTx.imag,'o', markersize=10);\n",
    "plt.grid()\n",
    "plt.axis('equal');\n",
    "\n",
    "plt.figure(figsize=(4,4))\n",
    "plt.plot(sigTxo_.real,sigTxo_.imag,'k--', linewidth=0.5)\n",
    "plt.plot(np.sqrt(signal_power(sigTxo))*symbTx.real, np.sqrt(signal_power(sigTxo))*symbTx.imag,'o', markersize=10);\n",
    "plt.grid()\n",
    "plt.axis('equal');"
   ]
  },
  {
   "cell_type": "markdown",
   "metadata": {},
   "source": [
    "## Pente de frequências (frequency comb)"
   ]
  },
  {
   "cell_type": "code",
   "execution_count": null,
   "metadata": {
    "ExecuteTime": {
     "end_time": "2023-04-04T18:44:19.585281Z",
     "start_time": "2023-04-04T18:44:18.451224Z"
    }
   },
   "outputs": [],
   "source": [
    "t = np.arange(0, sigTxo.size*8)*Ta\n",
    "\n",
    "Vπ = 2 \n",
    "Vb = Vπ/2\n",
    "Ai = 1\n",
    "\n",
    "senoideRF = 2*Vπ/2*np.cos(2*np.pi*Rs*t + np.pi)\n",
    "\n",
    "sigTxo_   = mzm(Ai, senoideRF, Vπ, Vb)\n",
    "#sigTxo_   = mzm(sigTxo_, Vπ, 5*senoideRF, Vb)\n",
    "\n",
    "# plota psd\n",
    "plt.figure();\n",
    "plt.psd(sigTxo_,Fs=Fa, NFFT = 16*1024, sides='twosided', label = 'Espectro do sinal óptico')\n",
    "plt.legend(loc='upper left');\n",
    "plt.xlim(-16*Rs,16*Rs);\n",
    "#plt.ylim(-200,-50);\n",
    "\n",
    "plt.figure();\n",
    "plt.plot(abs(sigTxo_[0:160])**2);\n",
    "plt.grid()"
   ]
  },
  {
   "cell_type": "markdown",
   "metadata": {},
   "source": [
    "## Referências\n",
    "\n",
    "[1] G. P. Agrawal, Lightwave Technology: Telecommunication Systems. Wiley-Interscience, 2005.\\\n",
    "[2] J. G. Proakis, M. Salehi, Communication Systems Engineering, 2nd Edition, Pearson, 2002."
   ]
  }
 ],
 "metadata": {
  "jupytext": {
   "encoding": "# -*- coding: utf-8 -*-",
   "formats": "ipynb,py:light"
  },
  "kernelspec": {
   "display_name": "Python 3 (ipykernel)",
   "language": "python",
   "name": "python3"
  },
  "language_info": {
   "codemirror_mode": {
    "name": "ipython",
    "version": 3
   },
   "file_extension": ".py",
   "mimetype": "text/x-python",
   "name": "python",
   "nbconvert_exporter": "python",
   "pygments_lexer": "ipython3",
   "version": "3.9.13"
  },
  "toc": {
   "base_numbering": 1,
   "nav_menu": {},
   "number_sections": true,
   "sideBar": true,
   "skip_h1_title": true,
   "title_cell": "Table of Contents",
   "title_sidebar": "Contents",
   "toc_cell": true,
   "toc_position": {},
   "toc_section_display": true,
   "toc_window_display": false
  },
  "varInspector": {
   "cols": {
    "lenName": 16,
    "lenType": 16,
    "lenVar": 40
   },
   "kernels_config": {
    "python": {
     "delete_cmd_postfix": "",
     "delete_cmd_prefix": "del ",
     "library": "var_list.py",
     "varRefreshCmd": "print(var_dic_list())"
    },
    "r": {
     "delete_cmd_postfix": ") ",
     "delete_cmd_prefix": "rm(",
     "library": "var_list.r",
     "varRefreshCmd": "cat(var_dic_list()) "
    }
   },
   "oldHeight": 498,
   "position": {
    "height": "667px",
    "left": "659px",
    "right": "20px",
    "top": "-21px",
    "width": "660px"
   },
   "types_to_exclude": [
    "module",
    "function",
    "builtin_function_or_method",
    "instance",
    "_Feature"
   ],
   "varInspector_section_display": "block",
   "window_display": false
  }
 },
 "nbformat": 4,
 "nbformat_minor": 4
}
